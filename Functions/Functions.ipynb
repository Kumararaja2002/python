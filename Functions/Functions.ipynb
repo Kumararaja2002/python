{
 "cells": [
  {
   "cell_type": "markdown",
   "id": "4147ea04",
   "metadata": {},
   "source": [
    "# Functions\n",
    "Functions are reusable blocks of code that perform specific tasks. They help organize code, reduce repetition, and improve readability. In Python, functions are defined using the `def` keyword, followed by the function name and parentheses.\n",
    "\n",
    "Example:\n",
    "```python\n",
    "def greet(name):\n",
    "    print(f\"Hello, {name}!\")\n",
    "```\n",
    "\n",
    "You can call a function by using its name and providing any required arguments:\n",
    "```python\n",
    "greet(\"Alice\")\n",
    "```"
   ]
  },
  {
   "cell_type": "code",
   "execution_count": 2,
   "id": "1e120f56",
   "metadata": {},
   "outputs": [
    {
     "data": {
      "text/plain": [
       "'Hello Alice!'"
      ]
     },
     "execution_count": 2,
     "metadata": {},
     "output_type": "execute_result"
    }
   ],
   "source": [
    "def greet(name):\n",
    "    return (f'Hello {name}!')\n",
    "\n",
    "greet(\"Alice\")"
   ]
  },
  {
   "cell_type": "markdown",
   "id": "d3caa740",
   "metadata": {},
   "source": [
    "### Default Arguments\n",
    "\n",
    "Default arguments allow you to assign a default value to one or more parameters in a function definition. If the caller does not provide a value for that parameter, the default is used.\n",
    "\n",
    "Example:\n",
    "```python\n",
    "def greet(name, greeting=\"Hello\"):\n",
    "    return f\"{greeting}, {name}!\"\n",
    "\n",
    "greet(\"Alice\")         # Uses default greeting\n",
    "greet(\"Bob\", \"Hi\")     # Overrides default greeting\n",
    "```"
   ]
  },
  {
   "cell_type": "code",
   "execution_count": 4,
   "id": "4ab8501a",
   "metadata": {},
   "outputs": [
    {
     "data": {
      "text/plain": [
       "'Hello Guest!'"
      ]
     },
     "execution_count": 4,
     "metadata": {},
     "output_type": "execute_result"
    }
   ],
   "source": [
    "#  If you dont provide any paramater it will take the default parameter\n",
    "\n",
    "def greet(name = \"Guest\"):\n",
    "    return (f'Hello {name}!')\n",
    "\n",
    "greet()"
   ]
  },
  {
   "cell_type": "markdown",
   "id": "ecb51d05",
   "metadata": {},
   "source": [
    "### Positional Arguments (`*args`)\n",
    "\n",
    "In Python, `*args` allows a function to accept any number of positional arguments. Inside the function, `args` is a tuple containing all extra positional arguments passed to the function.\n",
    "\n",
    "Example:\n",
    "```python\n",
    "def print_numbers(*args):\n",
    "    for number in args:\n",
    "        print(number)\n",
    "\n",
    "print_numbers(1, 2, 3, 4)\n",
    "```\n"
   ]
  },
  {
   "cell_type": "code",
   "execution_count": null,
   "id": "4a26d05b",
   "metadata": {},
   "outputs": [
    {
     "name": "stdout",
     "output_type": "stream",
     "text": [
      "1\n",
      "2\n",
      "3\n",
      "4\n",
      "Alice\n"
     ]
    }
   ],
   "source": [
    "# We can pass any number of arguments to the function using *args\n",
    "\n",
    "def print_numbers(*args):\n",
    "    for i in args:\n",
    "        print(i)\n",
    "\n",
    "print_numbers(1,2,3,4,\"Alice\")"
   ]
  },
  {
   "cell_type": "markdown",
   "id": "c3954d3a",
   "metadata": {},
   "source": [
    "### Keyword Arguments (`**kwargs`)\n",
    "\n",
    "In Python, `**kwargs` allows a function to accept any number of keyword arguments. Inside the function, `kwargs` is a dictionary containing all extra keyword arguments passed to the function.\n",
    "\n",
    "Example:\n",
    "```python\n",
    "def print_info(**kwargs):\n",
    "    for key, value in kwargs.items():\n",
    "        print(f\"{key}: {value}\")\n",
    "\n",
    "print_info(name=\"Alice\", age=25, city=\"New York\")\n",
    "```\n",
    "This will output:\n",
    "```\n",
    "name: Alice\n",
    "age: 25\n",
    "city: New York\n",
    "```"
   ]
  },
  {
   "cell_type": "code",
   "execution_count": null,
   "id": "f3ba396d",
   "metadata": {},
   "outputs": [
    {
     "name": "stdout",
     "output_type": "stream",
     "text": [
      "name : Alice\n",
      "age : 45\n"
     ]
    }
   ],
   "source": [
    "# **kwargs takes key-value pairs as arguments; we can pass any number of keyword arguments\n",
    "\n",
    "def print_numbers(**kwargs):\n",
    "    for i, j in kwargs.items():\n",
    "        print(i,\":\", j)\n",
    "\n",
    "print_numbers(name=\"Alice\", age=45)"
   ]
  },
  {
   "cell_type": "code",
   "execution_count": 13,
   "id": "fa16a1f5",
   "metadata": {},
   "outputs": [
    {
     "name": "stdout",
     "output_type": "stream",
     "text": [
      "1\n",
      "2\n",
      "3\n",
      "4\n",
      "Alice\n",
      "name : Alice\n",
      "age : 45\n"
     ]
    }
   ],
   "source": [
    "def print_numbers(*args,**kwargs):\n",
    "    for i in args:\n",
    "        print(i)\n",
    "\n",
    "    for i, j in kwargs.items():\n",
    "        print(i,\":\", j)\n",
    "    \n",
    "\n",
    "print_numbers(1,2,3,4,\"Alice\",name=\"Alice\", age=45)"
   ]
  },
  {
   "cell_type": "markdown",
   "id": "de2a5c94",
   "metadata": {},
   "source": [
    "### Lambda Functions\n",
    "\n",
    "A lambda function is a small anonymous function defined with the `lambda` keyword. Lambda functions can have any number of arguments but only one expression. They are often used for short, simple functions.\n",
    "\n",
    "Example:\n",
    "```python\n",
    "add = lambda x, y: x + y\n",
    "print(add(2, 3))  # Output: 5\n",
    "```\n",
    "\n",
    "Lambda functions are commonly used with functions like `map()`, `filter()`, and `sorted()`."
   ]
  },
  {
   "cell_type": "code",
   "execution_count": 14,
   "id": "20f038a6",
   "metadata": {},
   "outputs": [
    {
     "data": {
      "text/plain": [
       "7"
      ]
     },
     "execution_count": 14,
     "metadata": {},
     "output_type": "execute_result"
    }
   ],
   "source": [
    "# Syntax\n",
    "# lambda arguments : expression\n",
    "add = lambda x,y :x+y\n",
    "add(3, 4)"
   ]
  },
  {
   "cell_type": "code",
   "execution_count": 15,
   "id": "a045989d",
   "metadata": {},
   "outputs": [
    {
     "data": {
      "text/plain": [
       "function"
      ]
     },
     "execution_count": 15,
     "metadata": {},
     "output_type": "execute_result"
    }
   ],
   "source": [
    "type(add)"
   ]
  },
  {
   "cell_type": "markdown",
   "id": "41274557",
   "metadata": {},
   "source": [
    "### The `map()` Function\n",
    "\n",
    "The `map()` function applies a given function to each item in an iterable (such as a list) and returns a map object (which can be converted to a list, tuple, etc.).\n",
    "\n",
    "**Syntax:**\n",
    "```python\n",
    "map(function, iterable)\n",
    "```\n",
    "\n",
    "**Example:**\n",
    "```python\n",
    "numbers = [1, 2, 3, 4]\n",
    "squared = map(lambda x: x**2, numbers)\n",
    "print(list(squared))  # Output: [1, 4, 9, 16]\n",
    "```\n",
    "\n",
    "The `map()` function is useful for transforming data without writing explicit loops."
   ]
  },
  {
   "cell_type": "code",
   "execution_count": 16,
   "id": "f40c76a4",
   "metadata": {},
   "outputs": [
    {
     "data": {
      "text/plain": [
       "<map at 0x1de3f31c520>"
      ]
     },
     "execution_count": 16,
     "metadata": {},
     "output_type": "execute_result"
    }
   ],
   "source": [
    "numbers = [1,2,3,4]\n",
    "\n",
    "map(lambda x : x**2, numbers)"
   ]
  },
  {
   "cell_type": "markdown",
   "id": "a2f9de1e",
   "metadata": {},
   "source": [
    "When you call the `map()` function in Python, it returns a map object, not a list. The map object is an iterator that applies the function to each item of the iterable when you iterate over it. To see the results, you need to convert the map object to a list:\n"
   ]
  },
  {
   "cell_type": "code",
   "execution_count": 17,
   "id": "191e98a4",
   "metadata": {},
   "outputs": [
    {
     "data": {
      "text/plain": [
       "[1, 4, 9, 16]"
      ]
     },
     "execution_count": 17,
     "metadata": {},
     "output_type": "execute_result"
    }
   ],
   "source": [
    "list(map(lambda x : x**2, numbers))"
   ]
  },
  {
   "cell_type": "code",
   "execution_count": 31,
   "id": "09b23703",
   "metadata": {},
   "outputs": [
    {
     "data": {
      "text/plain": [
       "['Apple', 'Banana', 'Cherry']"
      ]
     },
     "execution_count": 31,
     "metadata": {},
     "output_type": "execute_result"
    }
   ],
   "source": [
    "lst = [\"apple\",\"banana\",\"cherry\"]\n",
    "lst = list(map(str.title, lst))\n",
    "lst"
   ]
  },
  {
   "cell_type": "code",
   "execution_count": null,
   "id": "72be66be",
   "metadata": {},
   "outputs": [
    {
     "data": {
      "text/plain": [
       "['Krish', 'Khan']"
      ]
     },
     "execution_count": 32,
     "metadata": {},
     "output_type": "execute_result"
    }
   ],
   "source": [
    "# Instead of in built function, we have created an user-defined function \n",
    "\n",
    "def get_name(person): \n",
    "    return person['name']\n",
    "\n",
    "people = [{\n",
    "            'name':'Krish', 'age':32\n",
    "        },  \n",
    "        {\n",
    "            'name':'Khan', 'age':43\n",
    "        }\n",
    "]\n",
    "\n",
    "list(map(get_name, people))"
   ]
  },
  {
   "cell_type": "markdown",
   "id": "9c5ad517",
   "metadata": {},
   "source": [
    "### The `filter()` Function\n",
    "\n",
    "The `filter()` function constructs an iterator from elements of an iterable for which a function returns `True`. It is commonly used to filter data based on a condition.\n",
    "\n",
    "**Syntax:**\n",
    "```python\n",
    "filter(function, iterable)\n",
    "```\n",
    "\n",
    "- `function`: A function that returns `True` or `False` for each element.\n",
    "- `iterable`: The sequence to filter.\n",
    "\n",
    "**Example:**\n",
    "```python\n",
    "numbers = [1, 2, 3, 4]\n",
    "even_numbers = filter(lambda x: x % 2 == 0, numbers)\n",
    "print(list(even_numbers))  # Output: [2, 4]\n",
    "```\n",
    "\n",
    "The `filter()` function is useful for extracting elements that satisfy a specific condition from a list or other iterable."
   ]
  },
  {
   "cell_type": "code",
   "execution_count": 37,
   "id": "b675e9c2",
   "metadata": {},
   "outputs": [
    {
     "data": {
      "text/plain": [
       "[54, 90, 58, 77]"
      ]
     },
     "execution_count": 37,
     "metadata": {},
     "output_type": "execute_result"
    }
   ],
   "source": [
    "lst = [54,90,28,49,10,48,58, 77]\n",
    "\n",
    "list(filter(lambda x: x > 50, lst))"
   ]
  },
  {
   "cell_type": "code",
   "execution_count": 38,
   "id": "4fb2acf8",
   "metadata": {},
   "outputs": [
    {
     "data": {
      "text/plain": [
       "[54, 90, 58]"
      ]
     },
     "execution_count": 38,
     "metadata": {},
     "output_type": "execute_result"
    }
   ],
   "source": [
    "list(filter(lambda x: x > 50 and x%2 == 0, lst))"
   ]
  },
  {
   "cell_type": "code",
   "execution_count": null,
   "id": "18f38569",
   "metadata": {},
   "outputs": [],
   "source": []
  }
 ],
 "metadata": {
  "kernelspec": {
   "display_name": "python_venv",
   "language": "python",
   "name": "python3"
  },
  "language_info": {
   "codemirror_mode": {
    "name": "ipython",
    "version": 3
   },
   "file_extension": ".py",
   "mimetype": "text/x-python",
   "name": "python",
   "nbconvert_exporter": "python",
   "pygments_lexer": "ipython3",
   "version": "3.12.4"
  }
 },
 "nbformat": 4,
 "nbformat_minor": 5
}
