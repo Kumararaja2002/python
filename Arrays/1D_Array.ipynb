{
 "cells": [
  {
   "cell_type": "code",
   "execution_count": 5,
   "metadata": {},
   "outputs": [],
   "source": [
    "import numpy as np\n",
    "import pandas as pd\n",
    "from array import *"
   ]
  },
  {
   "cell_type": "code",
   "execution_count": 6,
   "metadata": {},
   "outputs": [
    {
     "data": {
      "text/plain": [
       "array('i', [1, 2, 3, 4])"
      ]
     },
     "execution_count": 6,
     "metadata": {},
     "output_type": "execute_result"
    }
   ],
   "source": [
    "arr = array('i', [1, 2, 3, 4])  # Creating an array using array method\n",
    "arr"
   ]
  },
  {
   "cell_type": "code",
   "execution_count": 7,
   "metadata": {},
   "outputs": [
    {
     "data": {
      "text/plain": [
       "array([1, 2, 3, 4, 5])"
      ]
     },
     "execution_count": 7,
     "metadata": {},
     "output_type": "execute_result"
    }
   ],
   "source": [
    "np_array = np.array([1,2,3,4,5]) # Creating an array using numpy libraries\n",
    "np_array"
   ]
  },
  {
   "cell_type": "code",
   "execution_count": 8,
   "metadata": {},
   "outputs": [
    {
     "data": {
      "text/plain": [
       "array('i', [1, 2, 3, 4, 5])"
      ]
     },
     "execution_count": 8,
     "metadata": {},
     "output_type": "execute_result"
    }
   ],
   "source": [
    "arr.insert(4,5)\n",
    "arr"
   ]
  },
  {
   "cell_type": "code",
   "execution_count": 10,
   "metadata": {},
   "outputs": [
    {
     "data": {
      "text/plain": [
       "array('i', [1, 2, 3, 4, 5, 6])"
      ]
     },
     "execution_count": 10,
     "metadata": {},
     "output_type": "execute_result"
    }
   ],
   "source": [
    "def insert_by_shifting(arr, index, value):\n",
    "    arr = array('i', list(arr) + [0])  # Extend the array\n",
    "    for i in range(len(arr) - 1, index, -1):  # Shift elements to the right\n",
    "        arr[i] = arr[i - 1]\n",
    "    arr[index] = value  # Insert the value at the specified index\n",
    "    return arr\n",
    "\n",
    "arr = insert_by_shifting(arr, 5, 6)\n",
    "arr"
   ]
  },
  {
   "cell_type": "code",
   "execution_count": null,
   "metadata": {},
   "outputs": [
    {
     "data": {
      "text/plain": [
       "array('i', [1, 2, 3, 6, 4, 5, 6])"
      ]
     },
     "execution_count": 144,
     "metadata": {},
     "output_type": "execute_result"
    }
   ],
   "source": [
    "def insert_by_slicing(arr, index, value):\n",
    "    arr = arr[:index] + array.array('i', [value]) + arr[index:]\n",
    "    return arr\n",
    "\n",
    "arr = insert_by_slicing(arr, 3, 6)\n",
    "arr"
   ]
  },
  {
   "cell_type": "code",
   "execution_count": null,
   "metadata": {},
   "outputs": [
    {
     "name": "stdout",
     "output_type": "stream",
     "text": [
      "6\n"
     ]
    }
   ],
   "source": [
    "# TO ACCESS AN ELEMENT IN PARTICULAR INDEX\n",
    "\n",
    "def accessElement(array, index):\n",
    "    \n",
    "    if index >= len(array):\n",
    "        print('index is out of bound')\n",
    "    else:\n",
    "        print(array[index])\n",
    "\n",
    "accessElement(arr,3)"
   ]
  },
  {
   "cell_type": "code",
   "execution_count": null,
   "metadata": {},
   "outputs": [
    {
     "data": {
      "text/plain": [
       "3"
      ]
     },
     "execution_count": 146,
     "metadata": {},
     "output_type": "execute_result"
    }
   ],
   "source": [
    "# SEARCH FOR AN ELEMENT\n",
    "\n",
    "def searchElement(array, value):\n",
    "    for i in range(len(array)):  # Fix the loop syntax\n",
    "        if array[i] == value:\n",
    "            return i  # Return the index of the found element\n",
    "    return -1  # Return -1 if the element is not found\n",
    "\n",
    "searchElement(arr, 6)\n"
   ]
  },
  {
   "cell_type": "code",
   "execution_count": null,
   "metadata": {},
   "outputs": [
    {
     "data": {
      "text/plain": [
       "array('i', [1, 2, 3, 4, 5, 6])"
      ]
     },
     "execution_count": 147,
     "metadata": {},
     "output_type": "execute_result"
    }
   ],
   "source": [
    "# DELETING AN ELEMENT FROM AN ARRAY USING REMOVE METHOD\n",
    "\n",
    "arr.remove(6)\n",
    "arr"
   ]
  },
  {
   "cell_type": "code",
   "execution_count": null,
   "metadata": {},
   "outputs": [
    {
     "data": {
      "text/plain": [
       "array('i', [1, 2, 3, 5, 6])"
      ]
     },
     "execution_count": 148,
     "metadata": {},
     "output_type": "execute_result"
    }
   ],
   "source": [
    "# DELETING AN ELEMENT FROM AN ARRAY BY SLICING:\n",
    "\n",
    "def remove_element(array, value):\n",
    "    \n",
    "    for i in range(len(array)):\n",
    "        if array[i] == value:\n",
    "            return array[:i] + array[i+1:]\n",
    "    return -1\n",
    "\n",
    "remove_element(arr, 4)"
   ]
  },
  {
   "cell_type": "code",
   "execution_count": null,
   "metadata": {},
   "outputs": [
    {
     "data": {
      "text/plain": [
       "array('i', [1, 2, 3, 5, 6])"
      ]
     },
     "execution_count": 149,
     "metadata": {},
     "output_type": "execute_result"
    }
   ],
   "source": [
    "# DELETING AN ELEMENT FROM AN ARRAY BY SHIFTING:\n",
    "\n",
    "def deleteElement(array, value):\n",
    "    for i in range(len(array)):\n",
    "        if array[i] == value:\n",
    "            for j in range(i, len(array) - 1):  # Shift elements to the left\n",
    "                array[j] = array[j + 1]\n",
    "            array = array[:-1]  # Remove the last element\n",
    "            return array\n",
    "    return array  # Return the array if the value is not found\n",
    "\n",
    "deleteElement(arr, 4)\n"
   ]
  },
  {
   "cell_type": "code",
   "execution_count": null,
   "metadata": {},
   "outputs": [
    {
     "data": {
      "text/plain": [
       "array('i', [1, 2, 3, 5, 6, 6, 7, 8, 9])"
      ]
     },
     "execution_count": 150,
     "metadata": {},
     "output_type": "execute_result"
    }
   ],
   "source": [
    "# EXTEND AN ARRAY USING EXTEND METHOD\n",
    "\n",
    "arr2 = array.array('i',[7,8,9])\n",
    "arr.extend(arr2)\n",
    "arr"
   ]
  },
  {
   "cell_type": "code",
   "execution_count": null,
   "metadata": {},
   "outputs": [
    {
     "data": {
      "text/plain": [
       "array('i', [1, 2, 3, 5, 6, 6, 7, 8, 9, 20, 21, 22])"
      ]
     },
     "execution_count": 155,
     "metadata": {},
     "output_type": "execute_result"
    }
   ],
   "source": [
    "# ADD ITEMS FROM LIST TO AN ARRAY\n",
    "\n",
    "tempList = [20,21,22] # this is a list\n",
    "arr.fromlist(tempList)\n",
    "arr"
   ]
  },
  {
   "cell_type": "code",
   "execution_count": null,
   "metadata": {},
   "outputs": [
    {
     "data": {
      "text/plain": [
       "array('i', [1, 2, 3, 5, 6, 6, 7, 8, 9, 20, 21])"
      ]
     },
     "execution_count": 156,
     "metadata": {},
     "output_type": "execute_result"
    }
   ],
   "source": [
    "# REMOVE THE LAST ELEMENT USING POP METHOD\n",
    "\n",
    "arr.pop() # --> this removes the last element of an array i.e., 22\n",
    "arr"
   ]
  },
  {
   "cell_type": "code",
   "execution_count": null,
   "metadata": {},
   "outputs": [
    {
     "data": {
      "text/plain": [
       "array('i', [21, 20, 9, 8, 7, 6, 6, 5, 3, 2, 1])"
      ]
     },
     "execution_count": 157,
     "metadata": {},
     "output_type": "execute_result"
    }
   ],
   "source": [
    "# REVERSE AN ARRAY USING REVERSE METHOD\n",
    "\n",
    "arr.reverse()\n",
    "arr"
   ]
  },
  {
   "cell_type": "code",
   "execution_count": null,
   "metadata": {},
   "outputs": [
    {
     "data": {
      "text/plain": [
       "array('i', [1, 2, 3, 5, 6, 6, 7, 8, 9, 20, 21])"
      ]
     },
     "execution_count": 175,
     "metadata": {},
     "output_type": "execute_result"
    }
   ],
   "source": [
    "arr.reverse()\n",
    "arr"
   ]
  },
  {
   "cell_type": "code",
   "execution_count": null,
   "metadata": {},
   "outputs": [
    {
     "data": {
      "text/plain": [
       "[21, 20, 9, 8, 7, 6, 6, 5, 3, 2]"
      ]
     },
     "execution_count": 176,
     "metadata": {},
     "output_type": "execute_result"
    }
   ],
   "source": [
    "# REVERSE AN ARRAY WITHOUT USING REVERSE FUNCTION\n",
    "\n",
    "\n",
    "def reverse(array):\n",
    "    reversed_array = [] # Created an empty list \n",
    "    for i in range(len(array)-1,0,-1): # Iterate in reverse order so that the resultant array starts with the last element\n",
    "        reversed_array.append(array[i]) # This append the element to the empty list\n",
    "    \n",
    "    # reversed_array = fromlist(reversed_array)\n",
    "    return reversed_array\n",
    "\n",
    "reverse(arr)"
   ]
  },
  {
   "cell_type": "code",
   "execution_count": null,
   "metadata": {},
   "outputs": [
    {
     "data": {
      "text/plain": [
       "array.array"
      ]
     },
     "execution_count": 174,
     "metadata": {},
     "output_type": "execute_result"
    }
   ],
   "source": [
    "type(arr)"
   ]
  },
  {
   "cell_type": "markdown",
   "metadata": {},
   "source": [
    "The `arr.buffer_info()` method in Python provides information about the memory buffer of the `array` object. Specifically, it returns a tuple containing two values:\n",
    "\n",
    "1. **Memory Address**: The starting memory address of the buffer where the array is stored.\n",
    "2. **Length**: The number of elements in the array.\n",
    "\n",
    "In this case, the `arr` variable is an `array.array` object of type `'i'` (signed integer) with the value `array('i', [1, 2, 3, 5, 6, 6, 7, 8, 9, 20, 21])`. When you call `arr.buffer_info()`, it will return a tuple with the memory address and the number of elements in the array.\n",
    "\n",
    "This method is useful for low-level operations where you need to know the memory layout of the array. However, it is rarely used in high-level programming."
   ]
  },
  {
   "cell_type": "code",
   "execution_count": null,
   "metadata": {},
   "outputs": [
    {
     "data": {
      "text/plain": [
       "(2729371362736, 11)"
      ]
     },
     "execution_count": 179,
     "metadata": {},
     "output_type": "execute_result"
    }
   ],
   "source": [
    "arr.buffer_info()"
   ]
  },
  {
   "cell_type": "code",
   "execution_count": null,
   "metadata": {},
   "outputs": [
    {
     "data": {
      "text/plain": [
       "2"
      ]
     },
     "execution_count": 181,
     "metadata": {},
     "output_type": "execute_result"
    }
   ],
   "source": [
    "# COUNT THE OCCURANCE OF AN ELEMENT USING COUNT METHOD\n",
    "\n",
    "arr.count(6)"
   ]
  },
  {
   "cell_type": "code",
   "execution_count": null,
   "metadata": {},
   "outputs": [
    {
     "data": {
      "text/plain": [
       "2"
      ]
     },
     "execution_count": 185,
     "metadata": {},
     "output_type": "execute_result"
    }
   ],
   "source": [
    "# COUNT THE OCCURANCE OF AN ELEMENT WITHOUT USING COUNT METHOD\n",
    "\n",
    "def countElement(array, element):\n",
    "    count = 0\n",
    "    for i in range(len(array)):\n",
    "        if array[i] == element:\n",
    "            count+=1\n",
    "\n",
    "    return count\n",
    "\n",
    "countElement(arr, 6)"
   ]
  },
  {
   "cell_type": "code",
   "execution_count": null,
   "metadata": {},
   "outputs": [
    {
     "data": {
      "text/plain": [
       "array('i', [2, 3, 5, 6, 6])"
      ]
     },
     "execution_count": 196,
     "metadata": {},
     "output_type": "execute_result"
    }
   ],
   "source": [
    "# SLICING THE ELEMENTS FROM AN ARRAY\n",
    "\n",
    "arr[1:6] # 1 --> is inclusive where 6 --> is exclusive"
   ]
  },
  {
   "cell_type": "code",
   "execution_count": null,
   "metadata": {},
   "outputs": [],
   "source": []
  }
 ],
 "metadata": {
  "kernelspec": {
   "display_name": "python_venv",
   "language": "python",
   "name": "python3"
  },
  "language_info": {
   "codemirror_mode": {
    "name": "ipython",
    "version": 3
   },
   "file_extension": ".py",
   "mimetype": "text/x-python",
   "name": "python",
   "nbconvert_exporter": "python",
   "pygments_lexer": "ipython3",
   "version": "3.12.4"
  }
 },
 "nbformat": 4,
 "nbformat_minor": 2
}
