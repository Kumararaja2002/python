{
 "cells": [
  {
   "cell_type": "markdown",
   "id": "cd305866",
   "metadata": {},
   "source": [
    "# 2D ARRAYS\n"
   ]
  },
  {
   "cell_type": "code",
   "execution_count": 62,
   "id": "946b16b1",
   "metadata": {},
   "outputs": [],
   "source": [
    "import numpy as np\n",
    "import pandas as pd\n",
    "from array import array"
   ]
  },
  {
   "cell_type": "code",
   "execution_count": 63,
   "id": "acfa3de5",
   "metadata": {},
   "outputs": [
    {
     "data": {
      "text/plain": [
       "array([[ 1,  2,  3,  4],\n",
       "       [ 5,  6,  7,  8],\n",
       "       [ 9, 10, 11, 12],\n",
       "       [13, 14, 15, 16]])"
      ]
     },
     "execution_count": 63,
     "metadata": {},
     "output_type": "execute_result"
    }
   ],
   "source": [
    "twoDArray = np.array([[1,2,3,4],[5,6,7,8],[9,10,11,12],[13,14,15,16]])\n",
    "twoDArray"
   ]
  },
  {
   "cell_type": "markdown",
   "id": "938d24f4",
   "metadata": {},
   "source": [
    "### INSERT A ROW/ COLUMN IN 2D ARRAY"
   ]
  },
  {
   "cell_type": "code",
   "execution_count": 64,
   "id": "524b5cc4",
   "metadata": {},
   "outputs": [
    {
     "data": {
      "text/plain": [
       "array([[17,  1,  2,  3,  4],\n",
       "       [28,  5,  6,  7,  8],\n",
       "       [19,  9, 10, 11, 12],\n",
       "       [20, 13, 14, 15, 16]])"
      ]
     },
     "execution_count": 64,
     "metadata": {},
     "output_type": "execute_result"
    }
   ],
   "source": [
    "# INSERT ROW/ COLUMN USING COLUMN INSERT FUNCTION\n",
    "\n",
    "newtwoDArray = np.insert(twoDArray,0,[[17,28,19,20]], axis=1) # 0 represent the row/ column in which you need to add row / column\n",
    "# Axis = 0 --> represent rows, Axis = 1 --> represent columns\n",
    "newtwoDArray\n"
   ]
  },
  {
   "cell_type": "code",
   "execution_count": 65,
   "id": "82fe0600",
   "metadata": {},
   "outputs": [
    {
     "data": {
      "text/plain": [
       "array([[ 1,  2,  3,  4],\n",
       "       [ 5,  6,  7,  8],\n",
       "       [ 9, 10, 11, 12],\n",
       "       [25, 26, 27, 28],\n",
       "       [13, 14, 15, 16]])"
      ]
     },
     "execution_count": 65,
     "metadata": {},
     "output_type": "execute_result"
    }
   ],
   "source": [
    "# INSERTING THE NEW ROW/COLUMNS WITHOUT INSERT FUNCTION\n",
    "\n",
    "def insert_function(arr,elements,index,axis):\n",
    "\n",
    "    twoDArray = np.concatenate((arr[:index],[elements],arr[index:]),axis)\n",
    "    # To add a column, set axis=1 and ensure 'elements' is a column vector\n",
    "    # Example usage: insert_function(twoDArray, [[30], [31], [32], [33]], 1, 1)\n",
    "    return twoDArray\n",
    "\n",
    "insert_function(twoDArray,[25,26,27,28],3,0)"
   ]
  },
  {
   "cell_type": "code",
   "execution_count": 66,
   "id": "240b9efb",
   "metadata": {},
   "outputs": [
    {
     "data": {
      "text/plain": [
       "array([[ 1,  2,  3,  4],\n",
       "       [ 5,  6,  7,  8],\n",
       "       [ 9, 10, 11, 12],\n",
       "       [13, 14, 15, 16],\n",
       "       [31, 32, 33, 43]])"
      ]
     },
     "execution_count": 66,
     "metadata": {},
     "output_type": "execute_result"
    }
   ],
   "source": [
    "# USE APPEND FUNCTION TO ADD NEW ROW/ COLUMN AT THE END OF AN 2D ARRAY\n",
    "\n",
    "np.append(twoDArray,[[31,32,33,43]],axis=0)"
   ]
  },
  {
   "cell_type": "code",
   "execution_count": 67,
   "id": "1805a865",
   "metadata": {},
   "outputs": [
    {
     "data": {
      "text/plain": [
       "array([[ 1,  2,  3,  4, 35],\n",
       "       [ 5,  6,  7,  8, 36],\n",
       "       [ 9, 10, 11, 12, 37],\n",
       "       [13, 14, 15, 16, 38]])"
      ]
     },
     "execution_count": 67,
     "metadata": {},
     "output_type": "execute_result"
    }
   ],
   "source": [
    "# To append a new column, the shape must match (4, 1) for twoDArray with shape (4, 4)\n",
    "# new_column = np.array([[35], [36], [37], [38]])\n",
    "np.append(twoDArray, [[35], [36], [37], [38]], axis=1)"
   ]
  },
  {
   "cell_type": "code",
   "execution_count": 68,
   "id": "cafa1247",
   "metadata": {},
   "outputs": [
    {
     "data": {
      "text/plain": [
       "'incorrect index'"
      ]
     },
     "execution_count": 68,
     "metadata": {},
     "output_type": "execute_result"
    }
   ],
   "source": [
    "# ACCESS 2D ARRAY ELEMENTS\n",
    "\n",
    "def accessElement(array, row_index, col_index):\n",
    "    if(row_index >= len(array)|(col_index >= len(array))):\n",
    "        return 'incorrect index'\n",
    "    else:\n",
    "        return array[row_index][col_index]\n",
    "\n",
    "accessElement(twoDArray,5,5)\n",
    "# accessElement(twoDArray, 3, 3)"
   ]
  },
  {
   "cell_type": "code",
   "execution_count": 69,
   "id": "1bb61f80",
   "metadata": {},
   "outputs": [
    {
     "name": "stdout",
     "output_type": "stream",
     "text": [
      "\t\n",
      "1\n",
      "2\n",
      "3\n",
      "4\n",
      "\t\n",
      "5\n",
      "6\n",
      "7\n",
      "8\n",
      "\t\n",
      "9\n",
      "10\n",
      "11\n",
      "12\n",
      "\t\n",
      "13\n",
      "14\n",
      "15\n",
      "16\n"
     ]
    }
   ],
   "source": [
    "# TRAVERSE 2D ARRAY\n",
    "\n",
    "def twoDtraversal(array):\n",
    "    for i in range(len(array)): # this will find the length of rows if we use len(array)\n",
    "        print('\\t')\n",
    "        for j in range(len(array[0])): # this will find the length of column if we use len(array[0])\n",
    "            print(array[i][j])\n",
    "    \n",
    "\n",
    "twoDtraversal(twoDArray)"
   ]
  },
  {
   "cell_type": "code",
   "execution_count": 70,
   "id": "4ce9462f",
   "metadata": {},
   "outputs": [
    {
     "data": {
      "text/plain": [
       "(2, 2)"
      ]
     },
     "execution_count": 70,
     "metadata": {},
     "output_type": "execute_result"
    }
   ],
   "source": [
    "# SEARCHING FOR AN ELEMENT IN 2D ARRAY\n",
    "\n",
    "def search_element(array,element):\n",
    "    for i in range(len(array)):\n",
    "        for j in range(len(array[0])):\n",
    "            if(array[i][j] == element):\n",
    "                return i, j\n",
    "    return 'The element is not found!'\n",
    "search_element(twoDArray, 11)"
   ]
  },
  {
   "cell_type": "code",
   "execution_count": 71,
   "id": "08536b3c",
   "metadata": {},
   "outputs": [
    {
     "data": {
      "text/plain": [
       "array([[ 1,  2,  3,  4],\n",
       "       [ 5,  6,  7,  8],\n",
       "       [ 9, 10, 11, 12],\n",
       "       [13, 14, 15, 16]])"
      ]
     },
     "execution_count": 71,
     "metadata": {},
     "output_type": "execute_result"
    }
   ],
   "source": [
    "twoDArray"
   ]
  },
  {
   "cell_type": "code",
   "execution_count": null,
   "id": "27314e90",
   "metadata": {},
   "outputs": [
    {
     "data": {
      "text/plain": [
       "array([[ 1,  2,  3,  4],\n",
       "       [ 5,  6,  7,  8],\n",
       "       [13, 14, 15, 16]])"
      ]
     },
     "execution_count": 76,
     "metadata": {},
     "output_type": "execute_result"
    }
   ],
   "source": [
    "# DELETE A ROW IN 2D ARRAY WITHOUT USING DELETE FUNCTION\n",
    "\n",
    "def delete_row(array,row_index,axis):\n",
    "    # Concatenate all rows except the one at index 'row_index'\n",
    "    return np.concatenate((array[:row_index],array[row_index+1:]),axis)\n",
    "\n",
    "delete_row(twoDArray,2,0)\n"
   ]
  },
  {
   "cell_type": "code",
   "execution_count": null,
   "id": "91d11b1d",
   "metadata": {},
   "outputs": [
    {
     "data": {
      "text/plain": [
       "array([[ 1,  2,  4],\n",
       "       [ 5,  6,  8],\n",
       "       [ 9, 10, 12],\n",
       "       [13, 14, 16]])"
      ]
     },
     "execution_count": 77,
     "metadata": {},
     "output_type": "execute_result"
    }
   ],
   "source": [
    "# DELETE A COLUMN IN 2D ARRAY WITHOUT USING DELETE FUNCTION\n",
    "\n",
    "def delete_column(array, col_index):\n",
    "    # Concatenate all columns except the one at index 'col_index'\n",
    "    return np.concatenate((array[:, :col_index], array[:, col_index+1:]), axis=1)\n",
    "\n",
    "# Example: delete the column at index 2\n",
    "delete_column(twoDArray, 2)\n"
   ]
  },
  {
   "cell_type": "code",
   "execution_count": null,
   "id": "92a6022c",
   "metadata": {},
   "outputs": [
    {
     "data": {
      "text/plain": [
       "array([[ 1,  2,  4],\n",
       "       [ 5,  6,  8],\n",
       "       [ 9, 10, 12],\n",
       "       [13, 14, 16]])"
      ]
     },
     "execution_count": 82,
     "metadata": {},
     "output_type": "execute_result"
    }
   ],
   "source": [
    "# DELETE A ROW/COLUMN IN 2D ARRAY WITHOUT USING DELETE FUNCTION\n",
    "\n",
    "def delete_elements(array,index,axis):\n",
    "    \n",
    "    if axis==0:\n",
    "        return np.concatenate((array[:index],array[index+1:]),axis=0)\n",
    "    elif axis==1:\n",
    "        return np.concatenate((array[:,:index],array[:,index+1:]),axis=1)\n",
    "delete_elements(twoDArray,2,1)"
   ]
  },
  {
   "cell_type": "code",
   "execution_count": 83,
   "id": "97ebe1cd",
   "metadata": {},
   "outputs": [
    {
     "data": {
      "text/plain": [
       "array([[ 2,  3,  4],\n",
       "       [ 6,  7,  8],\n",
       "       [10, 11, 12],\n",
       "       [14, 15, 16]])"
      ]
     },
     "execution_count": 83,
     "metadata": {},
     "output_type": "execute_result"
    }
   ],
   "source": [
    "# DELETE ROW/COLUMN USING DELETE FUNCTION\\\n",
    "\n",
    "np.delete(twoDArray,0,axis=1)"
   ]
  },
  {
   "cell_type": "code",
   "execution_count": null,
   "id": "ed829a5f",
   "metadata": {},
   "outputs": [],
   "source": []
  }
 ],
 "metadata": {
  "kernelspec": {
   "display_name": "python_venv",
   "language": "python",
   "name": "python3"
  },
  "language_info": {
   "codemirror_mode": {
    "name": "ipython",
    "version": 3
   },
   "file_extension": ".py",
   "mimetype": "text/x-python",
   "name": "python",
   "nbconvert_exporter": "python",
   "pygments_lexer": "ipython3",
   "version": "3.12.4"
  }
 },
 "nbformat": 4,
 "nbformat_minor": 5
}
