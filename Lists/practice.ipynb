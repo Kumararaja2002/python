{
 "cells": [
  {
   "cell_type": "code",
   "execution_count": 2,
   "id": "28d6241e",
   "metadata": {},
   "outputs": [],
   "source": [
    "import numpy as np\n",
    "import pandas as pd"
   ]
  },
  {
   "cell_type": "markdown",
   "id": "7dae670c",
   "metadata": {},
   "source": [
    "**Missing Number**\n",
    "\n",
    "Write a function to find the missing number in a given integer array of 1 to 100. The function takes to parameter the array and the number of elements that needs to be in array.  For example if we want to find missing number from 1 to 6 the second parameter will be 6.\n",
    "\n",
    "Example\n",
    "\n",
    "missing_number([1, 2, 3, 4, 6], 6) # 5"
   ]
  },
  {
   "cell_type": "code",
   "execution_count": 3,
   "id": "675d5894",
   "metadata": {},
   "outputs": [
    {
     "data": {
      "text/plain": [
       "array([5])"
      ]
     },
     "execution_count": 3,
     "metadata": {},
     "output_type": "execute_result"
    }
   ],
   "source": [
    "def missing_number(arr, n):\n",
    "    result = np.array([])\n",
    "    for i in range(1, n+1):\n",
    "        if i not in arr:\n",
    "            result = np.append(result, int(i))\n",
    "    return result.astype(int)\n",
    "\n",
    "missing_number([1,2,3,4,6], 6)"
   ]
  },
  {
   "cell_type": "code",
   "execution_count": 4,
   "id": "432e2c16",
   "metadata": {},
   "outputs": [
    {
     "data": {
      "text/plain": [
       "array([5, 7])"
      ]
     },
     "execution_count": 4,
     "metadata": {},
     "output_type": "execute_result"
    }
   ],
   "source": [
    "def missing_number(arr, n):\n",
    "    missing = []\n",
    "    for i in range(1, n+1):\n",
    "        if i not in arr:\n",
    "            missing.append(i)\n",
    "    return np.array(missing)\n",
    "\n",
    "missing_number([1,2,3,4,6,8], 8)"
   ]
  },
  {
   "cell_type": "markdown",
   "id": "217b63be",
   "metadata": {},
   "source": [
    "You can use the arithmetic progression formula to find the sum of the numbers from 1 to n and then subtract the sum of the numbers in the array to get the missing number.  The time complexity of this function is **O(n)** because it iterates through the array once to calculate the sum of its elements."
   ]
  },
  {
   "cell_type": "code",
   "execution_count": 5,
   "id": "ba408bda",
   "metadata": {},
   "outputs": [
    {
     "data": {
      "text/plain": [
       "6.0"
      ]
     },
     "execution_count": 5,
     "metadata": {},
     "output_type": "execute_result"
    }
   ],
   "source": [
    "def missing_number(arr, n):\n",
    "    # calculate the sum of n natural numbers using arithmetic progression formula\n",
    "    n = n*(n+1)/2\n",
    "    # calculate the sum of array elements\n",
    "    total = sum(arr)\n",
    "    missing_number = n - total\n",
    "    return missing_number\n",
    "\n",
    "missing_number([1,2,3,4,5,7,8],8)\n"
   ]
  },
  {
   "cell_type": "code",
   "execution_count": 6,
   "id": "fc0b1445",
   "metadata": {},
   "outputs": [
    {
     "data": {
      "text/plain": [
       "[(3, 7), (9, 1)]"
      ]
     },
     "execution_count": 6,
     "metadata": {},
     "output_type": "execute_result"
    }
   ],
   "source": [
    "def twoSum(arr, target):\n",
    "    lst = []\n",
    "    for i in range(len(arr)):\n",
    "        for j in range(i + 1, len(arr)):\n",
    "            if arr[i] + arr[j] == target:\n",
    "                lst.append((arr[i], arr[j]))\n",
    "    return lst\n",
    "\n",
    "twoSum([2,3,7,9,1], 10)"
   ]
  },
  {
   "cell_type": "markdown",
   "id": "66e07f86",
   "metadata": {},
   "source": [
    "**Max Product of Two Integers**\n",
    "\n",
    "Find the maximum product of two integers in an array where all elements are positive.\n",
    "\n",
    "Example\n",
    "\n",
    "arr = [1, 7, 3, 4, 9, 5] \n",
    "max_product(arr) # Output: 63 (9*7)"
   ]
  },
  {
   "cell_type": "code",
   "execution_count": 7,
   "id": "c63d84a5",
   "metadata": {},
   "outputs": [
    {
     "data": {
      "text/plain": [
       "63"
      ]
     },
     "execution_count": 7,
     "metadata": {},
     "output_type": "execute_result"
    }
   ],
   "source": [
    "def max_product(arr):\n",
    "    # TODO\n",
    "    max =0\n",
    "    for i in range(0,len(arr)):\n",
    "        for j in range(i+1,len(arr)):\n",
    "            if max < arr[i]*arr[j]:\n",
    "                max = arr[i]*arr[j]\n",
    "    return max\n",
    "max_product([1,7,3,4,9,5])"
   ]
  },
  {
   "cell_type": "code",
   "execution_count": 8,
   "id": "31396d71",
   "metadata": {},
   "outputs": [
    {
     "data": {
      "text/plain": [
       "30"
      ]
     },
     "execution_count": 8,
     "metadata": {},
     "output_type": "execute_result"
    }
   ],
   "source": [
    "   \n",
    "def maxi(arr):\n",
    "    # lst = list(map(int,arr))\n",
    "    arr =[i*(-1) for i in arr if i<0]\n",
    "    sorted_lst = sorted(arr)\n",
    "    max1 = sorted_lst.pop()\n",
    "    max2 = sorted_lst.pop()\n",
    "    return max1*max2\n",
    "\n",
    "maxi([-10, -3, 1, 2])\n"
   ]
  },
  {
   "cell_type": "code",
   "execution_count": 9,
   "id": "49414668",
   "metadata": {},
   "outputs": [
    {
     "data": {
      "text/plain": [
       "45"
      ]
     },
     "execution_count": 9,
     "metadata": {},
     "output_type": "execute_result"
    }
   ],
   "source": [
    "def max_product(arr):\n",
    "    max1, max2 = 0,0\n",
    "    for i in arr:\n",
    "        if i > max1:\n",
    "            max2 = max1 \n",
    "            max1 = i # max1 =  1,7\n",
    "        elif i < max1:\n",
    "            max2 = i # max2 = 0,1\n",
    "    return max1*max2\n",
    " \n",
    "arr = [1, 7, 3, 4, 9, 5]\n",
    "max_product(arr)"
   ]
  },
  {
   "cell_type": "code",
   "execution_count": 10,
   "id": "a14bbd69",
   "metadata": {},
   "outputs": [
    {
     "data": {
      "text/plain": [
       "[2, 2]"
      ]
     },
     "execution_count": 10,
     "metadata": {},
     "output_type": "execute_result"
    }
   ],
   "source": [
    "def remove_ele(nums,val):\n",
    "    new_nums = []\n",
    "    for i in range(len(nums)):\n",
    "        if nums[i] != val:\n",
    "            new_nums.append(nums[i])\n",
    "    return new_nums\n",
    "\n",
    "remove_ele([3,2,2,3],3)"
   ]
  },
  {
   "cell_type": "code",
   "execution_count": 11,
   "id": "72d54f74",
   "metadata": {},
   "outputs": [
    {
     "data": {
      "text/plain": [
       "(5, [0, 1, 3, 0, 4, '_', '_', '_'])"
      ]
     },
     "execution_count": 11,
     "metadata": {},
     "output_type": "execute_result"
    }
   ],
   "source": [
    "def remove_val(nums,val):\n",
    "    k = []\n",
    "    m = []\n",
    "    count = 0\n",
    "    for i in range(len(nums)):\n",
    "        if nums[i] != val:\n",
    "            k.append(nums[i])\n",
    "            count+=1\n",
    "        else:\n",
    "            m.append('_')\n",
    "    return count,k + m\n",
    "remove_val([0,1,2,2,3,0,4,2],2)"
   ]
  },
  {
   "cell_type": "code",
   "execution_count": 12,
   "id": "b1854612",
   "metadata": {},
   "outputs": [
    {
     "data": {
      "text/plain": [
       "5"
      ]
     },
     "execution_count": 12,
     "metadata": {},
     "output_type": "execute_result"
    }
   ],
   "source": [
    "def removeElement(nums, val: int) -> int:\n",
    "    k = 0  # Pointer for the next position to place a non-val element\n",
    "    for i in range(len(nums)):\n",
    "        if nums[i] != val:\n",
    "            nums[k] = nums[i]\n",
    "            k += 1\n",
    "    return k\n",
    "    # count = 0\n",
    "    # for i in range(len(nums)):\n",
    "    #     if nums[i]!=val:\n",
    "    #         count+=1\n",
    "    # return count\n",
    "removeElement([0,1,2,2,3,0,4,2],2)\n"
   ]
  },
  {
   "cell_type": "code",
   "execution_count": 13,
   "id": "d0730c69",
   "metadata": {},
   "outputs": [
    {
     "data": {
      "text/plain": [
       "[2, 3]"
      ]
     },
     "execution_count": 13,
     "metadata": {},
     "output_type": "execute_result"
    }
   ],
   "source": [
    "# MIDDLE FUNCTION\n",
    "\n",
    "def middle(lst):\n",
    "    # TODO\n",
    "    last = len(lst)\n",
    "    return lst[1:last-1]\n",
    "\n",
    "middle([1, 2, 3, 4])\n"
   ]
  },
  {
   "cell_type": "code",
   "execution_count": 14,
   "id": "6371d27f",
   "metadata": {},
   "outputs": [
    {
     "data": {
      "text/plain": [
       "[2, 3]"
      ]
     },
     "execution_count": 14,
     "metadata": {},
     "output_type": "execute_result"
    }
   ],
   "source": [
    "# MIDDLE FUNCTION\n",
    "\n",
    "def middle(lst):\n",
    "    return lst[1:-1]\n",
    "middle([1, 2, 3, 4])\n"
   ]
  },
  {
   "cell_type": "markdown",
   "id": "fa986580",
   "metadata": {},
   "source": [
    "Given 2D list calculate the sum of diagonal elements.\n",
    "\n",
    "Example\n",
    "\n",
    "myList2D= [[1,2,3],[4,5,6],[7,8,9]] \n",
    " \n",
    "diagonal_sum(myList2D) # 15"
   ]
  },
  {
   "cell_type": "code",
   "execution_count": 15,
   "id": "1ecbd0cf",
   "metadata": {},
   "outputs": [
    {
     "data": {
      "text/plain": [
       "15"
      ]
     },
     "execution_count": 15,
     "metadata": {},
     "output_type": "execute_result"
    }
   ],
   "source": [
    "# SUM OF DIAGONAL ELEMENTS IN A MATRIX\n",
    "\n",
    "myList2D= [[1,2,3],[4,5,6],[7,8,9]] \n",
    "# [1,2,3],\n",
    "# [4,5,6],\n",
    "# [7,8,9],\n",
    "# (0,0)--> 1 (1,1) --> 5 (2,2) --> 9\n",
    "\n",
    "def digonalSum(lst):\n",
    "    sumofdia= 0 \n",
    "\n",
    "    for i in range(0,len(lst)):\n",
    "        for j in range(i,len(lst)):\n",
    "            # if i == j:\n",
    "                sumofdia += lst[i][j]\n",
    "                break\n",
    "\n",
    "    return sumofdia\n",
    "    \n",
    "digonalSum(myList2D)"
   ]
  },
  {
   "cell_type": "code",
   "execution_count": 16,
   "id": "35f30ded",
   "metadata": {},
   "outputs": [],
   "source": [
    "a2D =[[1,2,3], # --> 0\n",
    "[4,5,6],       # --> 1\n",
    "[7,8,9]]       # --> 2\n",
    "# (0,0)--> 1 (1,1) --> 5 (2,2) --> 9\n"
   ]
  },
  {
   "cell_type": "code",
   "execution_count": 17,
   "id": "4e81f9e3",
   "metadata": {},
   "outputs": [
    {
     "data": {
      "text/plain": [
       "3"
      ]
     },
     "execution_count": 17,
     "metadata": {},
     "output_type": "execute_result"
    }
   ],
   "source": [
    "len(a2D[0]) # this finds the length of row 0"
   ]
  },
  {
   "cell_type": "code",
   "execution_count": 18,
   "id": "39ded2fc",
   "metadata": {},
   "outputs": [
    {
     "data": {
      "text/plain": [
       "15"
      ]
     },
     "execution_count": 18,
     "metadata": {},
     "output_type": "execute_result"
    }
   ],
   "source": [
    "# DIAGONAL SUM OF MATRIX \n",
    "\n",
    "def sumOfDiagonal(lst):\n",
    "    sum = 0\n",
    "    for i in range(len(lst[1])): # range(len(lst)) --> [[],[],[]] this considers the inner list as an element 0, 1, 2\n",
    "        sum += lst[i][i]\n",
    "    return sum\n",
    "\n",
    "sumOfDiagonal([[1,2,3],[4,5,6],[7,8,9]])"
   ]
  },
  {
   "cell_type": "markdown",
   "id": "e245ff4a",
   "metadata": {},
   "source": [
    "Given a list, write a function to get first, second best scores from the list.\n",
    "\n",
    "List may contain duplicates.\n",
    "\n",
    "Example\n",
    "\n",
    "myList = [84,85,86,87,85,90,85,83,23,45,84,1,2,0]\n",
    "\n",
    "first_second(myList) # 90 87"
   ]
  },
  {
   "cell_type": "code",
   "execution_count": 19,
   "id": "cd014a50",
   "metadata": {},
   "outputs": [],
   "source": [
    "# BEST SCORE\n",
    "\n",
    "def first_second(my_list):\n",
    "    \n",
    "    best_score = sorted(my_list)\n",
    "    return tuple(best_score[:-3:-1]) # [:-3:-1] -1 --> Reverse the loop where -3 provides last 2 elements because -3 is excluded.\n",
    "    "
   ]
  },
  {
   "cell_type": "code",
   "execution_count": 20,
   "id": "ba0f3458",
   "metadata": {},
   "outputs": [],
   "source": [
    "# BEST SCORE\n",
    "\n",
    "def first_second(my_list):\n",
    "    max1, max2 = float('-inf'), float('-inf')\n",
    " \n",
    "    for num in my_list:\n",
    "        if num > max1:\n",
    "            max2 = max1\n",
    "            max1 = num\n",
    "        elif num > max2 and num != max1:\n",
    "            max2 = num\n",
    " \n",
    "    return max1, max2\n",
    " \n",
    "my_list = [84, 85, 86, 87, 85, 90, 85, 83, 23, 45, 84, 1, 2, 0]"
   ]
  },
  {
   "cell_type": "markdown",
   "id": "ccf2c64d",
   "metadata": {},
   "source": [
    "Write a function to remove the duplicate numbers on given integer array/list.\n",
    "\n",
    "Example\n",
    "\n",
    "remove_duplicates([1, 1, 2, 2, 3, 4, 5])\n",
    "Output : [1, 2, 3, 4, 5]"
   ]
  },
  {
   "cell_type": "code",
   "execution_count": 21,
   "id": "dbb4f312",
   "metadata": {},
   "outputs": [
    {
     "ename": "SyntaxError",
     "evalue": "invalid syntax (651115808.py, line 4)",
     "output_type": "error",
     "traceback": [
      "  \u001b[36mCell\u001b[39m\u001b[36m \u001b[39m\u001b[32mIn[21]\u001b[39m\u001b[32m, line 4\u001b[39m\n\u001b[31m    \u001b[39m\u001b[31marr=\u001b[39m\n         ^\n\u001b[31mSyntaxError\u001b[39m\u001b[31m:\u001b[39m invalid syntax\n"
     ]
    }
   ],
   "source": [
    "\n",
    "def remove_duplicates(arr):\n",
    "    \n",
    "    return list(set(arr))\n",
    "arr= "
   ]
  },
  {
   "cell_type": "code",
   "execution_count": null,
   "id": "a8a59860",
   "metadata": {},
   "outputs": [],
   "source": [
    "def remove_duplicates(lst):\n",
    "    unique_lst = []\n",
    "    seen = set()\n",
    "    for item in lst:\n",
    "        if item not in seen:\n",
    "            unique_lst.append(item)\n",
    "            seen.add(item)\n",
    "    return unique_lst\n",
    " \n",
    "my_list = [1, 1, 2, 2, 3, 4, 5]"
   ]
  },
  {
   "cell_type": "markdown",
   "id": "1b23cc14",
   "metadata": {},
   "source": [
    "**Pairs**\n",
    "\n",
    "Write a function to find all pairs of an integer array whose sum is equal to a given number. Do not consider commutative pairs.\n",
    "\n",
    "Example\n",
    "\n",
    "pair_sum([2, 4, 3, 5, 6, -2, 4, 7, 8, 9],7)\n",
    "\n",
    "Output : ['2+5', '4+3', '3+4', '-2+9']\n"
   ]
  },
  {
   "cell_type": "code",
   "execution_count": null,
   "id": "446a1c68",
   "metadata": {},
   "outputs": [
    {
     "data": {
      "text/plain": [
       "['3+4', '4+3', '-2+9', '2+5']"
      ]
     },
     "execution_count": 185,
     "metadata": {},
     "output_type": "execute_result"
    }
   ],
   "source": [
    "# RETURN PAIRS\n",
    "\n",
    "def pair_sum(my_list, sum):\n",
    "    new_list = []\n",
    "    for i in range(len(my_list)):\n",
    "        for j in range(i+1,len(my_list)):\n",
    "            if my_list[i] + my_list[j] == sum:\n",
    "                new_list.append(f'{my_list[i]}+{my_list[j]}')\n",
    "    return list(set(new_list))\n",
    "my_list=[2, 4, 3, 5, 6, -2, 4, 7, 8, 9]\n",
    "\n",
    "pair_sum(my_list,7)"
   ]
  },
  {
   "cell_type": "code",
   "execution_count": null,
   "id": "e371a0cf",
   "metadata": {},
   "outputs": [
    {
     "data": {
      "text/plain": [
       "['2+5', '4+3', '-2+9']"
      ]
     },
     "execution_count": 187,
     "metadata": {},
     "output_type": "execute_result"
    }
   ],
   "source": [
    "# RETURN UNIQUE PAIRS\n",
    "\n",
    "def pair_sum(my_list, target):\n",
    "    pairs = []\n",
    "    seen = set()\n",
    "    for i in range(len(my_list)):\n",
    "        for j in range(i + 1, len(my_list)):\n",
    "            if my_list[i] + my_list[j] == target and (my_list[j], my_list[i]) not in seen:\n",
    "                pairs.append(f\"{my_list[i]}+{my_list[j]}\")\n",
    "                seen.add((my_list[i], my_list[j]))\n",
    "    return pairs\n",
    "\n",
    "pair_sum(my_list, 7)"
   ]
  },
  {
   "cell_type": "markdown",
   "id": "86a9d065",
   "metadata": {},
   "source": [
    "**Contains Duplicate**\n",
    "\n",
    "Given an integer array nums, return true if any value appears at least twice in the array, and return false if every element is distinct.\n",
    "\n",
    "Example :\n",
    "\n",
    "Input: nums = [1,2,3,1]\n",
    "Output: true"
   ]
  },
  {
   "cell_type": "code",
   "execution_count": null,
   "id": "f225e538",
   "metadata": {},
   "outputs": [
    {
     "data": {
      "text/plain": [
       "True"
      ]
     },
     "execution_count": 3,
     "metadata": {},
     "output_type": "execute_result"
    }
   ],
   "source": [
    "def contains_duplicate(nums):\n",
    "    # TODO\n",
    "    seen = set()\n",
    "    for i in nums:\n",
    "        if i in seen:\n",
    "            return True\n",
    "        seen.add(i)\n",
    "    return False\n",
    "nums = [1,2,3,1]\n",
    "contains_duplicate(nums)"
   ]
  },
  {
   "cell_type": "markdown",
   "id": "8ef54931",
   "metadata": {},
   "source": [
    "**Rotate Matrix/ Image**\n",
    "\n",
    "You are given an n x n 2D matrix representing an image, rotate the image by 90 degrees (clockwise).\n",
    "\n",
    "You have to rotate the image in-place, which means you have to modify the input 2D matrix directly.\n",
    "\n",
    "DO NOT allocate another 2D matrix and do the rotation.\n",
    "\n",
    "Example:\n",
    "\n",
    "\n",
    "Input: matrix = [[1,2,3],[4,5,6],[7,8,9]]\n",
    "\n",
    "Output: [\\\n",
    "        [7,4,1],\\\n",
    "        [8,5,2],\\\n",
    "        [9,6,3]]"
   ]
  },
  {
   "cell_type": "code",
   "execution_count": null,
   "id": "2b18ceae",
   "metadata": {},
   "outputs": [
    {
     "data": {
      "text/plain": [
       "[[7, 4, 1], [8, 5, 2], [9, 6, 3]]"
      ]
     },
     "execution_count": 8,
     "metadata": {},
     "output_type": "execute_result"
    }
   ],
   "source": [
    "# ROTATE A MATRIX FOR 90 DEGREE\n",
    "\n",
    "def rotate(matrix):\n",
    "    n = len(matrix) # Here the length is 3 because it contains 3 rows\n",
    "\n",
    "        # Transpose the matrix\n",
    "    for i in range(n):  # Iterate over the rows\n",
    "        for j in range(i, n):  # Iterate over the columns starting from the current row 'i'\n",
    "\n",
    "            # This line swaps the elements at positions (i, j) and (j, i) in the matrix.\n",
    "            # It is transposing the matrix in-place, turning rows into columns and vice versa.\n",
    "            # For example, matrix[0][1] and matrix[1][0] will be swapped.\n",
    "            matrix[i][j], matrix[j][i] = matrix[j][i], matrix[i][j]\n",
    "    \n",
    "    # Reverse each row\n",
    "    for row in matrix:  # Iterate over each row in the matrix\n",
    "        row.reverse()  # Reverse the elements in the current row\n",
    "\n",
    "matrix= [[1,2,3],[4,5,6],[7,8,9]]\n",
    "rotate(matrix)\n",
    "matrix\n"
   ]
  },
  {
   "cell_type": "code",
   "execution_count": null,
   "id": "9412e077",
   "metadata": {},
   "outputs": [
    {
     "data": {
      "text/plain": [
       "[5, 4, 3, 2, 1]"
      ]
     },
     "execution_count": 23,
     "metadata": {},
     "output_type": "execute_result"
    }
   ],
   "source": [
    "# REVERSE AN ARRAY:\n",
    "\n",
    "def reverse(array):\n",
    "    for i in range(0, int(len(array)/2)): # 0, 1, 2\n",
    "        other = len(array)-i-1 # 5-0-1 = 4\n",
    "        temp = array[i]  #temp = 1\n",
    "        array[i] = array[other]  # array[0] = array[4] i.e., 5\n",
    "        array[other] = temp # array[0] = temp i.e., 1\n",
    "    return array\n",
    "reverse([1,2,3,4,5])"
   ]
  },
  {
   "cell_type": "markdown",
   "id": "99d8d3df",
   "metadata": {},
   "source": [
    "Here's a quick demo showing the difference between / (float division) and // (floor division) in Python:\n",
    "\n",
    "| Numerator | Denominator | Using / (Float Division) | Using // (Floor Division) |\n",
    "|-----------|-------------|--------------------------|---------------------------|\n",
    "|     5     |      2      |           2.5            |            2              |\n"
   ]
  },
  {
   "cell_type": "code",
   "execution_count": 24,
   "id": "65741ce0",
   "metadata": {},
   "outputs": [
    {
     "data": {
      "text/plain": [
       "1"
      ]
     },
     "execution_count": 24,
     "metadata": {},
     "output_type": "execute_result"
    }
   ],
   "source": [
    "def majorityElement(nums):\n",
    "        nums.sort()\n",
    "        n = len(nums)\n",
    "        return nums[n//2]\n",
    "majorityElement([1,2,3,1,1])"
   ]
  },
  {
   "cell_type": "code",
   "execution_count": null,
   "id": "696dd9cc",
   "metadata": {},
   "outputs": [
    {
     "data": {
      "text/plain": [
       "1"
      ]
     },
     "execution_count": 26,
     "metadata": {},
     "output_type": "execute_result"
    }
   ],
   "source": [
    "#  Boyer-Moore Voting Algorithm\n",
    "\n",
    "def majorityElement(nums):\n",
    "    count = 0\n",
    "    max = 0\n",
    "    for i in nums: # 1 --> 2\n",
    "        if count == 0: # true\n",
    "            max = i # 1\n",
    "        if i == max: # true\n",
    "            count+=1 # 2\n",
    "        else:\n",
    "            count-=1 \n",
    "    return max\n",
    "\n",
    "majorityElement([1,2,3,1,1])"
   ]
  },
  {
   "cell_type": "code",
   "execution_count": 29,
   "id": "fc53a060",
   "metadata": {},
   "outputs": [
    {
     "data": {
      "text/plain": [
       "1"
      ]
     },
     "execution_count": 29,
     "metadata": {},
     "output_type": "execute_result"
    }
   ],
   "source": [
    "def majorityElement(nums):\n",
    "    count = 1\n",
    "    max_count = 0\n",
    "    element = nums[0]\n",
    "    nums.sort()\n",
    "    for i in range(1,len(nums)):\n",
    "        if nums[i] == nums[i-1]:\n",
    "            count+=1\n",
    "        else:\n",
    "            count=1\n",
    "        if count > max_count:\n",
    "            max_count = count\n",
    "            element = nums[i]\n",
    "    return element\n",
    "\n",
    "majorityElement([1,2,3,1,1])"
   ]
  },
  {
   "cell_type": "code",
   "execution_count": null,
   "id": "c449acd3",
   "metadata": {},
   "outputs": [],
   "source": []
  }
 ],
 "metadata": {
  "kernelspec": {
   "display_name": "python_venv",
   "language": "python",
   "name": "python3"
  },
  "language_info": {
   "codemirror_mode": {
    "name": "ipython",
    "version": 3
   },
   "file_extension": ".py",
   "mimetype": "text/x-python",
   "name": "python",
   "nbconvert_exporter": "python",
   "pygments_lexer": "ipython3",
   "version": "3.12.4"
  }
 },
 "nbformat": 4,
 "nbformat_minor": 5
}
