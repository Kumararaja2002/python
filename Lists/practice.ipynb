{
 "cells": [
  {
   "cell_type": "code",
   "execution_count": 75,
   "id": "28d6241e",
   "metadata": {},
   "outputs": [],
   "source": [
    "import numpy as np\n",
    "import pandas as pd"
   ]
  },
  {
   "cell_type": "markdown",
   "id": "7dae670c",
   "metadata": {},
   "source": [
    "**Missing Number**\n",
    "\n",
    "Write a function to find the missing number in a given integer array of 1 to 100. The function takes to parameter the array and the number of elements that needs to be in array.  For example if we want to find missing number from 1 to 6 the second parameter will be 6.\n",
    "\n",
    "Example\n",
    "\n",
    "missing_number([1, 2, 3, 4, 6], 6) # 5"
   ]
  },
  {
   "cell_type": "code",
   "execution_count": 76,
   "id": "675d5894",
   "metadata": {},
   "outputs": [
    {
     "data": {
      "text/plain": [
       "array([5])"
      ]
     },
     "execution_count": 76,
     "metadata": {},
     "output_type": "execute_result"
    }
   ],
   "source": [
    "def missing_number(arr, n):\n",
    "    result = np.array([])\n",
    "    for i in range(1, n+1):\n",
    "        if i not in arr:\n",
    "            result = np.append(result, int(i))\n",
    "    return result.astype(int)\n",
    "\n",
    "missing_number([1,2,3,4,6], 6)"
   ]
  },
  {
   "cell_type": "code",
   "execution_count": 77,
   "id": "432e2c16",
   "metadata": {},
   "outputs": [
    {
     "data": {
      "text/plain": [
       "array([5, 7])"
      ]
     },
     "execution_count": 77,
     "metadata": {},
     "output_type": "execute_result"
    }
   ],
   "source": [
    "def missing_number(arr, n):\n",
    "    missing = []\n",
    "    for i in range(1, n+1):\n",
    "        if i not in arr:\n",
    "            missing.append(i)\n",
    "    return np.array(missing)\n",
    "\n",
    "missing_number([1,2,3,4,6,8], 8)"
   ]
  },
  {
   "cell_type": "markdown",
   "id": "217b63be",
   "metadata": {},
   "source": [
    "You can use the arithmetic progression formula to find the sum of the numbers from 1 to n and then subtract the sum of the numbers in the array to get the missing number.  The time complexity of this function is **O(n)** because it iterates through the array once to calculate the sum of its elements."
   ]
  },
  {
   "cell_type": "code",
   "execution_count": 78,
   "id": "ba408bda",
   "metadata": {},
   "outputs": [
    {
     "data": {
      "text/plain": [
       "6.0"
      ]
     },
     "execution_count": 78,
     "metadata": {},
     "output_type": "execute_result"
    }
   ],
   "source": [
    "def missing_number(arr, n):\n",
    "    # calculate the sum of n natural numbers using arithmetic progression formula\n",
    "    n = n*(n+1)/2\n",
    "    # calculate the sum of array elements\n",
    "    total = sum(arr)\n",
    "    missing_number = n - total\n",
    "    return missing_number\n",
    "\n",
    "missing_number([1,2,3,4,5,7,8],8)\n"
   ]
  },
  {
   "cell_type": "code",
   "execution_count": 79,
   "id": "fc0b1445",
   "metadata": {},
   "outputs": [
    {
     "data": {
      "text/plain": [
       "[(3, 7), (9, 1)]"
      ]
     },
     "execution_count": 79,
     "metadata": {},
     "output_type": "execute_result"
    }
   ],
   "source": [
    "def twoSum(arr, target):\n",
    "    lst = []\n",
    "    for i in range(len(arr)):\n",
    "        for j in range(i + 1, len(arr)):\n",
    "            if arr[i] + arr[j] == target:\n",
    "                lst.append((arr[i], arr[j]))\n",
    "    return lst\n",
    "\n",
    "twoSum([2,3,7,9,1], 10)"
   ]
  },
  {
   "cell_type": "markdown",
   "id": "66e07f86",
   "metadata": {},
   "source": [
    "**Max Product of Two Integers**\n",
    "\n",
    "Find the maximum product of two integers in an array where all elements are positive.\n",
    "\n",
    "Example\n",
    "\n",
    "arr = [1, 7, 3, 4, 9, 5] \n",
    "max_product(arr) # Output: 63 (9*7)"
   ]
  },
  {
   "cell_type": "code",
   "execution_count": 80,
   "id": "c63d84a5",
   "metadata": {},
   "outputs": [
    {
     "data": {
      "text/plain": [
       "63"
      ]
     },
     "execution_count": 80,
     "metadata": {},
     "output_type": "execute_result"
    }
   ],
   "source": [
    "def max_product(arr):\n",
    "    # TODO\n",
    "    max =0\n",
    "    for i in range(0,len(arr)):\n",
    "        for j in range(i+1,len(arr)):\n",
    "            if max < arr[i]*arr[j]:\n",
    "                max = arr[i]*arr[j]\n",
    "    return max\n",
    "max_product([1,7,3,4,9,5])"
   ]
  },
  {
   "cell_type": "code",
   "execution_count": 81,
   "id": "31396d71",
   "metadata": {},
   "outputs": [
    {
     "data": {
      "text/plain": [
       "30"
      ]
     },
     "execution_count": 81,
     "metadata": {},
     "output_type": "execute_result"
    }
   ],
   "source": [
    "   \n",
    "def maxi(arr):\n",
    "    # lst = list(map(int,arr))\n",
    "    arr =[i*(-1) for i in arr if i<0]\n",
    "    sorted_lst = sorted(arr)\n",
    "    max1 = sorted_lst.pop()\n",
    "    max2 = sorted_lst.pop()\n",
    "    return max1*max2\n",
    "\n",
    "maxi([-10, -3, 1, 2])\n"
   ]
  },
  {
   "cell_type": "code",
   "execution_count": 82,
   "id": "49414668",
   "metadata": {},
   "outputs": [
    {
     "data": {
      "text/plain": [
       "45"
      ]
     },
     "execution_count": 82,
     "metadata": {},
     "output_type": "execute_result"
    }
   ],
   "source": [
    "def max_product(arr):\n",
    "    max1, max2 = 0,0\n",
    "    for i in arr:\n",
    "        if i > max1:\n",
    "            max2 = max1 \n",
    "            max1 = i # max1 =  1,7\n",
    "        elif i < max1:\n",
    "            max2 = i # max2 = 0,1\n",
    "    return max1*max2\n",
    " \n",
    "arr = [1, 7, 3, 4, 9, 5]\n",
    "max_product(arr)"
   ]
  },
  {
   "cell_type": "code",
   "execution_count": 83,
   "id": "a14bbd69",
   "metadata": {},
   "outputs": [
    {
     "data": {
      "text/plain": [
       "[2, 2]"
      ]
     },
     "execution_count": 83,
     "metadata": {},
     "output_type": "execute_result"
    }
   ],
   "source": [
    "def remove_ele(nums,val):\n",
    "    new_nums = []\n",
    "    for i in range(len(nums)):\n",
    "        if nums[i] != val:\n",
    "            new_nums.append(nums[i])\n",
    "    return new_nums\n",
    "\n",
    "remove_ele([3,2,2,3],3)"
   ]
  },
  {
   "cell_type": "code",
   "execution_count": 84,
   "id": "72d54f74",
   "metadata": {},
   "outputs": [
    {
     "data": {
      "text/plain": [
       "(5, [0, 1, 3, 0, 4, '_', '_', '_'])"
      ]
     },
     "execution_count": 84,
     "metadata": {},
     "output_type": "execute_result"
    }
   ],
   "source": [
    "def remove_val(nums,val):\n",
    "    k = []\n",
    "    m = []\n",
    "    count = 0\n",
    "    for i in range(len(nums)):\n",
    "        if nums[i] != val:\n",
    "            k.append(nums[i])\n",
    "            count+=1\n",
    "        else:\n",
    "            m.append('_')\n",
    "    return count,k + m\n",
    "remove_val([0,1,2,2,3,0,4,2],2)"
   ]
  },
  {
   "cell_type": "code",
   "execution_count": 85,
   "id": "b1854612",
   "metadata": {},
   "outputs": [
    {
     "data": {
      "text/plain": [
       "5"
      ]
     },
     "execution_count": 85,
     "metadata": {},
     "output_type": "execute_result"
    }
   ],
   "source": [
    "def removeElement(nums, val: int) -> int:\n",
    "    k = 0  # Pointer for the next position to place a non-val element\n",
    "    for i in range(len(nums)):\n",
    "        if nums[i] != val:\n",
    "            nums[k] = nums[i]\n",
    "            k += 1\n",
    "    return k\n",
    "    # count = 0\n",
    "    # for i in range(len(nums)):\n",
    "    #     if nums[i]!=val:\n",
    "    #         count+=1\n",
    "    # return count\n",
    "removeElement([0,1,2,2,3,0,4,2],2)\n"
   ]
  },
  {
   "cell_type": "code",
   "execution_count": 86,
   "id": "d0730c69",
   "metadata": {},
   "outputs": [
    {
     "data": {
      "text/plain": [
       "[2, 3]"
      ]
     },
     "execution_count": 86,
     "metadata": {},
     "output_type": "execute_result"
    }
   ],
   "source": [
    "# MIDDLE FUNCTION\n",
    "\n",
    "def middle(lst):\n",
    "    # TODO\n",
    "    last = len(lst)\n",
    "    return lst[1:last-1]\n",
    "\n",
    "middle([1, 2, 3, 4])\n"
   ]
  },
  {
   "cell_type": "code",
   "execution_count": 87,
   "id": "6371d27f",
   "metadata": {},
   "outputs": [
    {
     "data": {
      "text/plain": [
       "[2, 3]"
      ]
     },
     "execution_count": 87,
     "metadata": {},
     "output_type": "execute_result"
    }
   ],
   "source": [
    "# MIDDLE FUNCTION\n",
    "\n",
    "def middle(lst):\n",
    "    return lst[1:-1]\n",
    "middle([1, 2, 3, 4])\n"
   ]
  },
  {
   "cell_type": "markdown",
   "id": "fa986580",
   "metadata": {},
   "source": [
    "Given 2D list calculate the sum of diagonal elements.\n",
    "\n",
    "Example\n",
    "\n",
    "myList2D= [[1,2,3],[4,5,6],[7,8,9]] \n",
    " \n",
    "diagonal_sum(myList2D) # 15"
   ]
  },
  {
   "cell_type": "code",
   "execution_count": 88,
   "id": "1ecbd0cf",
   "metadata": {},
   "outputs": [
    {
     "data": {
      "text/plain": [
       "15"
      ]
     },
     "execution_count": 88,
     "metadata": {},
     "output_type": "execute_result"
    }
   ],
   "source": [
    "# SUM OF DIAGONAL ELEMENTS IN A MATRIX\n",
    "\n",
    "myList2D= [[1,2,3],[4,5,6],[7,8,9]] \n",
    "# [1,2,3],\n",
    "# [4,5,6],\n",
    "# [7,8,9],\n",
    "# (0,0)--> 1 (1,1) --> 5 (2,2) --> 9\n",
    "\n",
    "def digonalSum(lst):\n",
    "    sumofdia= 0 \n",
    "\n",
    "    for i in range(0,len(lst)):\n",
    "        for j in range(i,len(lst)):\n",
    "            # if i == j:\n",
    "                sumofdia += lst[i][j]\n",
    "                break\n",
    "\n",
    "    return sumofdia\n",
    "    \n",
    "digonalSum(myList2D)"
   ]
  },
  {
   "cell_type": "code",
   "execution_count": 89,
   "id": "35f30ded",
   "metadata": {},
   "outputs": [],
   "source": [
    "a2D =[[1,2,3], # --> 0\n",
    "[4,5,6],       # --> 1\n",
    "[7,8,9]]       # --> 2\n",
    "# (0,0)--> 1 (1,1) --> 5 (2,2) --> 9\n"
   ]
  },
  {
   "cell_type": "code",
   "execution_count": 90,
   "id": "4e81f9e3",
   "metadata": {},
   "outputs": [
    {
     "data": {
      "text/plain": [
       "3"
      ]
     },
     "execution_count": 90,
     "metadata": {},
     "output_type": "execute_result"
    }
   ],
   "source": [
    "len(a2D[0]) # this finds the length of row 0"
   ]
  },
  {
   "cell_type": "code",
   "execution_count": 91,
   "id": "39ded2fc",
   "metadata": {},
   "outputs": [
    {
     "data": {
      "text/plain": [
       "15"
      ]
     },
     "execution_count": 91,
     "metadata": {},
     "output_type": "execute_result"
    }
   ],
   "source": [
    "# DIAGONAL SUM OF MATRIX \n",
    "\n",
    "def sumOfDiagonal(lst):\n",
    "    sum = 0\n",
    "    for i in range(len(lst[1])): # range(len(lst)) --> [[],[],[]] this considers the inner list as an element 0, 1, 2\n",
    "        sum += lst[i][i]\n",
    "    return sum\n",
    "\n",
    "sumOfDiagonal([[1,2,3],[4,5,6],[7,8,9]])"
   ]
  },
  {
   "cell_type": "markdown",
   "id": "e245ff4a",
   "metadata": {},
   "source": [
    "Given a list, write a function to get first, second best scores from the list.\n",
    "\n",
    "List may contain duplicates.\n",
    "\n",
    "Example\n",
    "\n",
    "myList = [84,85,86,87,85,90,85,83,23,45,84,1,2,0]\n",
    "\n",
    "first_second(myList) # 90 87"
   ]
  },
  {
   "cell_type": "code",
   "execution_count": 92,
   "id": "cd014a50",
   "metadata": {},
   "outputs": [],
   "source": [
    "# BEST SCORE\n",
    "\n",
    "def first_second(my_list):\n",
    "    \n",
    "    best_score = sorted(my_list)\n",
    "    return tuple(best_score[:-3:-1]) # [:-3:-1] -1 --> Reverse the loop where -3 provides last 2 elements because -3 is excluded.\n",
    "    "
   ]
  },
  {
   "cell_type": "code",
   "execution_count": 93,
   "id": "ba0f3458",
   "metadata": {},
   "outputs": [],
   "source": [
    "# BEST SCORE\n",
    "\n",
    "def first_second(my_list):\n",
    "    max1, max2 = float('-inf'), float('-inf')\n",
    " \n",
    "    for num in my_list:\n",
    "        if num > max1:\n",
    "            max2 = max1\n",
    "            max1 = num\n",
    "        elif num > max2 and num != max1:\n",
    "            max2 = num\n",
    " \n",
    "    return max1, max2\n",
    " \n",
    "my_list = [84, 85, 86, 87, 85, 90, 85, 83, 23, 45, 84, 1, 2, 0]"
   ]
  },
  {
   "cell_type": "markdown",
   "id": "ccf2c64d",
   "metadata": {},
   "source": [
    "Write a function to remove the duplicate numbers on given integer array/list.\n",
    "\n",
    "Example\n",
    "\n",
    "remove_duplicates([1, 1, 2, 2, 3, 4, 5])\n",
    "Output : [1, 2, 3, 4, 5]"
   ]
  },
  {
   "cell_type": "code",
   "execution_count": null,
   "id": "dbb4f312",
   "metadata": {},
   "outputs": [
    {
     "ename": "SyntaxError",
     "evalue": "invalid syntax (651115808.py, line 4)",
     "output_type": "error",
     "traceback": [
      "  \u001b[36mCell\u001b[39m\u001b[36m \u001b[39m\u001b[32mIn[94]\u001b[39m\u001b[32m, line 4\u001b[39m\n\u001b[31m    \u001b[39m\u001b[31marr=\u001b[39m\n         ^\n\u001b[31mSyntaxError\u001b[39m\u001b[31m:\u001b[39m invalid syntax\n"
     ]
    }
   ],
   "source": [
    "\n",
    "def remove_duplicates(arr):\n",
    "    \n",
    "    return list(set(arr))"
   ]
  },
  {
   "cell_type": "code",
   "execution_count": null,
   "id": "a8a59860",
   "metadata": {},
   "outputs": [],
   "source": [
    "def remove_duplicates(lst):\n",
    "    unique_lst = []\n",
    "    seen = set()\n",
    "    for item in lst:\n",
    "        if item not in seen:\n",
    "            unique_lst.append(item)\n",
    "            seen.add(item)\n",
    "    return unique_lst\n",
    " \n",
    "my_list = [1, 1, 2, 2, 3, 4, 5]"
   ]
  },
  {
   "cell_type": "markdown",
   "id": "1b23cc14",
   "metadata": {},
   "source": [
    "**Pairs**\n",
    "\n",
    "Write a function to find all pairs of an integer array whose sum is equal to a given number. Do not consider commutative pairs.\n",
    "\n",
    "Example\n",
    "\n",
    "pair_sum([2, 4, 3, 5, 6, -2, 4, 7, 8, 9],7)\n",
    "\n",
    "Output : ['2+5', '4+3', '3+4', '-2+9']\n"
   ]
  },
  {
   "cell_type": "code",
   "execution_count": null,
   "id": "446a1c68",
   "metadata": {},
   "outputs": [
    {
     "data": {
      "text/plain": [
       "['3+4', '4+3', '-2+9', '2+5']"
      ]
     },
     "execution_count": 185,
     "metadata": {},
     "output_type": "execute_result"
    }
   ],
   "source": [
    "# RETURN PAIRS\n",
    "\n",
    "def pair_sum(my_list, sum):\n",
    "    new_list = []\n",
    "    for i in range(len(my_list)):\n",
    "        for j in range(i+1,len(my_list)):\n",
    "            if my_list[i] + my_list[j] == sum:\n",
    "                new_list.append(f'{my_list[i]}+{my_list[j]}')\n",
    "    return list(set(new_list))\n",
    "my_list=[2, 4, 3, 5, 6, -2, 4, 7, 8, 9]\n",
    "\n",
    "pair_sum(my_list,7)"
   ]
  },
  {
   "cell_type": "code",
   "execution_count": null,
   "id": "e371a0cf",
   "metadata": {},
   "outputs": [
    {
     "data": {
      "text/plain": [
       "['2+5', '4+3', '-2+9']"
      ]
     },
     "execution_count": 187,
     "metadata": {},
     "output_type": "execute_result"
    }
   ],
   "source": [
    "# RETURN UNIQUE PAIRS\n",
    "\n",
    "def pair_sum(my_list, target):\n",
    "    pairs = []\n",
    "    seen = set()\n",
    "    for i in range(len(my_list)):\n",
    "        for j in range(i + 1, len(my_list)):\n",
    "            if my_list[i] + my_list[j] == target and (my_list[j], my_list[i]) not in seen:\n",
    "                pairs.append(f\"{my_list[i]}+{my_list[j]}\")\n",
    "                seen.add((my_list[i], my_list[j]))\n",
    "    return pairs\n",
    "\n",
    "pair_sum(my_list, 7)"
   ]
  },
  {
   "cell_type": "markdown",
   "id": "86a9d065",
   "metadata": {},
   "source": [
    "**Contains Duplicate**\n",
    "\n",
    "Given an integer array nums, return true if any value appears at least twice in the array, and return false if every element is distinct.\n",
    "\n",
    "Example :\n",
    "\n",
    "Input: nums = [1,2,3,1]\n",
    "Output: true"
   ]
  },
  {
   "cell_type": "code",
   "execution_count": null,
   "id": "f225e538",
   "metadata": {},
   "outputs": [
    {
     "data": {
      "text/plain": [
       "True"
      ]
     },
     "execution_count": 3,
     "metadata": {},
     "output_type": "execute_result"
    }
   ],
   "source": [
    "def contains_duplicate(nums):\n",
    "    # TODO\n",
    "    seen = set()\n",
    "    for i in nums:\n",
    "        if i in seen:\n",
    "            return True\n",
    "        seen.add(i)\n",
    "    return False\n",
    "nums = [1,2,3,1]\n",
    "contains_duplicate(nums)"
   ]
  },
  {
   "cell_type": "markdown",
   "id": "8ef54931",
   "metadata": {},
   "source": [
    "**Rotate Matrix/ Image**\n",
    "\n",
    "You are given an n x n 2D matrix representing an image, rotate the image by 90 degrees (clockwise).\n",
    "\n",
    "You have to rotate the image in-place, which means you have to modify the input 2D matrix directly.\n",
    "\n",
    "DO NOT allocate another 2D matrix and do the rotation.\n",
    "\n",
    "Example:\n",
    "\n",
    "\n",
    "Input: matrix = [[1,2,3],[4,5,6],[7,8,9]]\n",
    "\n",
    "Output: [\\\n",
    "        [7,4,1],\\\n",
    "        [8,5,2],\\\n",
    "        [9,6,3]]"
   ]
  },
  {
   "cell_type": "code",
   "execution_count": null,
   "id": "2b18ceae",
   "metadata": {},
   "outputs": [
    {
     "data": {
      "text/plain": [
       "[[7, 4, 1], [8, 5, 2], [9, 6, 3]]"
      ]
     },
     "execution_count": 8,
     "metadata": {},
     "output_type": "execute_result"
    }
   ],
   "source": [
    "# ROTATE A MATRIX FOR 90 DEGREE\n",
    "\n",
    "def rotate(matrix):\n",
    "    n = len(matrix) # Here the length is 3 because it contains 3 rows\n",
    "\n",
    "        # Transpose the matrix\n",
    "    for i in range(n):  # Iterate over the rows\n",
    "        for j in range(i, n):  # Iterate over the columns starting from the current row 'i'\n",
    "\n",
    "            # This line swaps the elements at positions (i, j) and (j, i) in the matrix.\n",
    "            # It is transposing the matrix in-place, turning rows into columns and vice versa.\n",
    "            # For example, matrix[0][1] and matrix[1][0] will be swapped.\n",
    "            matrix[i][j], matrix[j][i] = matrix[j][i], matrix[i][j]\n",
    "    \n",
    "    # Reverse each row\n",
    "    for row in matrix:  # Iterate over each row in the matrix\n",
    "        row.reverse()  # Reverse the elements in the current row\n",
    "\n",
    "matrix= [[1,2,3],[4,5,6],[7,8,9]]\n",
    "rotate(matrix)\n",
    "matrix\n"
   ]
  },
  {
   "cell_type": "code",
   "execution_count": null,
   "id": "9412e077",
   "metadata": {},
   "outputs": [
    {
     "data": {
      "text/plain": [
       "[5, 4, 3, 2, 1]"
      ]
     },
     "execution_count": 23,
     "metadata": {},
     "output_type": "execute_result"
    }
   ],
   "source": [
    "# REVERSE AN ARRAY:\n",
    "\n",
    "def reverse(array):\n",
    "    for i in range(0, int(len(array)/2)): # 0, 1, 2\n",
    "        other = len(array)-i-1 # 5-0-1 = 4\n",
    "        temp = array[i]  #temp = 1\n",
    "        array[i] = array[other]  # array[0] = array[4] i.e., 5\n",
    "        array[other] = temp # array[0] = temp i.e., 1\n",
    "    return array\n",
    "reverse([1,2,3,4,5])"
   ]
  },
  {
   "cell_type": "markdown",
   "id": "99d8d3df",
   "metadata": {},
   "source": [
    "Here's a quick demo showing the difference between / (float division) and // (floor division) in Python:\n",
    "\n",
    "| Numerator | Denominator | Using / (Float Division) | Using // (Floor Division) |\n",
    "|-----------|-------------|--------------------------|---------------------------|\n",
    "|     5     |      2      |           2.5            |            2              |\n"
   ]
  },
  {
   "cell_type": "code",
   "execution_count": null,
   "id": "65741ce0",
   "metadata": {},
   "outputs": [
    {
     "data": {
      "text/plain": [
       "1"
      ]
     },
     "execution_count": 24,
     "metadata": {},
     "output_type": "execute_result"
    }
   ],
   "source": [
    "def majorityElement(nums):\n",
    "        nums.sort()\n",
    "        n = len(nums)\n",
    "        return nums[n//2]\n",
    "majorityElement([1,2,3,1,1])"
   ]
  },
  {
   "cell_type": "code",
   "execution_count": null,
   "id": "696dd9cc",
   "metadata": {},
   "outputs": [
    {
     "data": {
      "text/plain": [
       "1"
      ]
     },
     "execution_count": 26,
     "metadata": {},
     "output_type": "execute_result"
    }
   ],
   "source": [
    "#  Boyer-Moore Voting Algorithm\n",
    "\n",
    "def majorityElement(nums):\n",
    "    count = 0\n",
    "    max = 0\n",
    "    for i in nums: # 1 --> 2\n",
    "        if count == 0: # true\n",
    "            max = i # 1\n",
    "        if i == max: # true\n",
    "            count+=1 # 2\n",
    "        else:\n",
    "            count-=1 \n",
    "    return max\n",
    "\n",
    "majorityElement([1,2,3,1,1])"
   ]
  },
  {
   "cell_type": "code",
   "execution_count": null,
   "id": "fc53a060",
   "metadata": {},
   "outputs": [
    {
     "data": {
      "text/plain": [
       "1"
      ]
     },
     "execution_count": 29,
     "metadata": {},
     "output_type": "execute_result"
    }
   ],
   "source": [
    "def majorityElement(nums):\n",
    "    count = 1\n",
    "    max_count = 0\n",
    "    element = nums[0]\n",
    "    nums.sort()\n",
    "    for i in range(1,len(nums)):\n",
    "        if nums[i] == nums[i-1]:\n",
    "            count+=1\n",
    "        else:\n",
    "            count=1\n",
    "        if count > max_count:\n",
    "            max_count = count\n",
    "            element = nums[i]\n",
    "    return element\n",
    "\n",
    "majorityElement([1,2,3,1,1])"
   ]
  },
  {
   "cell_type": "code",
   "execution_count": null,
   "id": "c449acd3",
   "metadata": {},
   "outputs": [],
   "source": [
    "def merge(nums1,nums2):\n",
    "    merged = nums1.extend(nums2)\n",
    "    return merged\n",
    "\n",
    "nums1 = [1,2,3,0,0,0]\n",
    "nums2 = [2,5,6]\n",
    "merge(nums1,nums2)"
   ]
  },
  {
   "cell_type": "code",
   "execution_count": null,
   "id": "86191db7",
   "metadata": {},
   "outputs": [
    {
     "data": {
      "text/plain": [
       "[1, 2, 2, 3, 5, 6]"
      ]
     },
     "execution_count": 46,
     "metadata": {},
     "output_type": "execute_result"
    }
   ],
   "source": [
    "nums1 = [1,2,3,0,0,0]\n",
    "nums2 = [2,5,6]\n",
    "\n",
    "\n",
    "for i in nums1:\n",
    "    if i != 0:\n",
    "        nums2.append(i)\n",
    "sorted(nums2)"
   ]
  },
  {
   "cell_type": "code",
   "execution_count": null,
   "id": "77e31810",
   "metadata": {},
   "outputs": [],
   "source": [
    "# Merge nums1 and nums2, remove zeros, and sort the result\n",
    "merged = nums1 + nums2\n",
    "merged = [num for num in merged if num != 0]\n",
    "merged.sort()\n",
    "merged\n"
   ]
  },
  {
   "cell_type": "code",
   "execution_count": null,
   "id": "69903ea3",
   "metadata": {},
   "outputs": [
    {
     "data": {
      "text/plain": [
       "[1, 2, 3, 0, 0, 0, 2, 5, 6]"
      ]
     },
     "execution_count": 19,
     "metadata": {},
     "output_type": "execute_result"
    }
   ],
   "source": [
    "nums1 = [1,2,3,0,0,0]\n",
    "nums2 = [2,5,6]\n",
    "extend= nums1+nums2\n",
    "extend"
   ]
  },
  {
   "cell_type": "code",
   "execution_count": null,
   "id": "7af382f2",
   "metadata": {},
   "outputs": [
    {
     "data": {
      "text/plain": [
       "[1, 2, 3]"
      ]
     },
     "execution_count": 95,
     "metadata": {},
     "output_type": "execute_result"
    }
   ],
   "source": [
    "nums1 = [1,2,3,0,0,0]\n",
    "nums2 = [2,5,6]\n",
    "nums2 = [i for i in nums1 if i != 0]\n",
    "nums2.sort()\n",
    "nums2"
   ]
  },
  {
   "cell_type": "code",
   "execution_count": 102,
   "id": "11317c6c",
   "metadata": {},
   "outputs": [
    {
     "data": {
      "text/plain": [
       "[1, 2, 2, 3, 5, 6]"
      ]
     },
     "execution_count": 102,
     "metadata": {},
     "output_type": "execute_result"
    }
   ],
   "source": [
    "nums1 = [1,2,3,0,0,0]\n",
    "nums2 = [2,5,6]\n",
    "k= 0\n",
    "for i in range(len(nums1)):\n",
    "    if nums1[i] == 0:\n",
    "        nums1[i] = nums2[k]\n",
    "        k+=1\n",
    "nums1.sort()\n",
    "nums1"
   ]
  },
  {
   "cell_type": "code",
   "execution_count": null,
   "id": "d780098a",
   "metadata": {},
   "outputs": [],
   "source": [
    "def merge(nums1, nums2):\n",
    "    for i in range(m,m+n):\n",
    "        nums1[i]=nums2[i-m]\n",
    "    nums1.sort()"
   ]
  },
  {
   "cell_type": "code",
   "execution_count": null,
   "id": "d424cf64",
   "metadata": {},
   "outputs": [
    {
     "data": {
      "text/plain": [
       "[0, 1, 2, 3, 4, '_', '_', '_', '_', '_']"
      ]
     },
     "execution_count": 118,
     "metadata": {},
     "output_type": "execute_result"
    }
   ],
   "source": [
    "def removeDuplicates(nums) -> int:\n",
    "    new_nums = []\n",
    "    for i in range(len(nums)):\n",
    "        if nums[i] not in new_nums:\n",
    "            new_nums.append(nums[i]) \n",
    "    new_nums = sorted(new_nums)\n",
    "\n",
    "    for i in range(len(nums) - len(new_nums)):\n",
    "        new_nums.append('_')\n",
    "    return new_nums\n",
    "nums = [0,0,1,1,1,2,2,3,3,4]\n",
    "removeDuplicates(nums)"
   ]
  },
  {
   "cell_type": "code",
   "execution_count": null,
   "id": "0fba869d",
   "metadata": {},
   "outputs": [],
   "source": [
    "def removeDuplicates(nums) -> int:\n",
    "    new_nums = []\n",
    "    for num in nums:\n",
    "        if num not in new_nums:\n",
    "            new_nums.append(num)\n",
    "    # Fill the rest with '_'\n",
    "    result = new_nums + ['_'] * (len(nums) - len(new_nums))\n",
    "    return result\n",
    "\n",
    "removeDuplicates(nums)\n"
   ]
  },
  {
   "cell_type": "markdown",
   "id": "ff3fa294",
   "metadata": {},
   "source": [
    "Assignment 1: Password Strength Checker \n",
    "\n",
    "Topics: String methods, if/else, logical operators \n",
    "Task: \n",
    "Ask the user to enter a password and check if it meets the following criteria: \n",
    "\n",
    "At least 8 characters \n",
    "\n",
    "Contains both uppercase and lowercase letters \n",
    "\n",
    "Contains at least one digit \n",
    "\n",
    "Contains at least one special character (@, #, $, etc.) "
   ]
  },
  {
   "cell_type": "code",
   "execution_count": null,
   "id": "8578173f",
   "metadata": {},
   "outputs": [
    {
     "name": "stdout",
     "output_type": "stream",
     "text": [
      "Password should contain at least one digit.\n"
     ]
    }
   ],
   "source": [
    "password = input(\"Create a password: \")\n",
    "\n",
    "lowerCount = 0\n",
    "upperCount = 0\n",
    "\n",
    "digitCount = 0\n",
    "specialCount = 0\n",
    "\n",
    "\n",
    "for i in password:\n",
    "    if i.islower():\n",
    "        lowerCount += 1\n",
    "    if i.isupper():\n",
    "        upperCount += 1\n",
    "    if i.isdigit():\n",
    "        digitCount += 1\n",
    "    if i in \"@#$\":\n",
    "        specialCount += 1\n",
    "\n",
    "\n",
    "if len(password) < 8:\n",
    "    print(\"Password should contain at least 8 characters.\")\n",
    "\n",
    "if lowerCount == 0:\n",
    "    print(\"Password should contain at least one lowercase letter.\")\n",
    "\n",
    "if upperCount == 0:\n",
    "    print(\"Password should contain at least one uppercase letter.\")\n",
    "\n",
    "if digitCount == 0:\n",
    "    print(\"Password should contain at least one digit.\")\n",
    "\n",
    "if specialCount == 0:\n",
    "    print(\"Password should contain at least one special character (@, #, $).\")\n"
   ]
  },
  {
   "cell_type": "code",
   "execution_count": 2,
   "id": "be9e5525",
   "metadata": {},
   "outputs": [
    {
     "name": "stdout",
     "output_type": "stream",
     "text": [
      "Password should contain at least one uppercase letter.\n",
      "Password should contain at least one digit.\n",
      "Password should contain at least one special character (@, #, $).\n"
     ]
    }
   ],
   "source": [
    "password = input(\"Create a password: \")\n",
    "\n",
    "if len(password) < 8:\n",
    "    print(\"Password should contain at least 8 characters.\")\n",
    "\n",
    "if not any(c.islower() for c in password):\n",
    "    print(\"Password should contain at least one lowercase letter.\")\n",
    "\n",
    "if not any(c.isupper() for c in password):\n",
    "    print(\"Password should contain at least one uppercase letter.\")\n",
    "\n",
    "if not any(c.isdigit() for c in password):\n",
    "    print(\"Password should contain at least one digit.\")\n",
    "\n",
    "if not any(c in \"@#$\" for c in password):\n",
    "    print(\"Password should contain at least one special character (@, #, $).\")\n"
   ]
  },
  {
   "cell_type": "code",
   "execution_count": null,
   "id": "a886cf27",
   "metadata": {},
   "outputs": [
    {
     "data": {
      "text/plain": [
       "'Password should contain at least 8 characters.'"
      ]
     },
     "execution_count": 25,
     "metadata": {},
     "output_type": "execute_result"
    }
   ],
   "source": [
    "import re\n",
    "\n",
    "def check_password(password):\n",
    "    if len(password) < 8:\n",
    "        return \"Password should contain at least 8 characters.\"\n",
    "    if not re.search(r'[A-Z]', password):\n",
    "        return \"Password should contain at least one uppercase letter.\"\n",
    "    if not re.search(r'[a-z]', password):\n",
    "        return \"Password should contain at least one lowercase letter.\"\n",
    "    if not re.search(r'[0-9]', password):\n",
    "        return \"Password should contain at least one digit.\"\n",
    "    if not re.search(r'[@#$]', password):\n",
    "        return 'Password should contain at least one special case.'\n",
    "    \n",
    "    return 'Password is strong!'\n",
    "\n",
    "password = input(\"enter a password:\")\n",
    "result = check_password(password)\n",
    "result"
   ]
  },
  {
   "cell_type": "code",
   "execution_count": 29,
   "id": "202e68da",
   "metadata": {},
   "outputs": [
    {
     "name": "stdout",
     "output_type": "stream",
     "text": [
      "['9', '3', '3']\n",
      "['+']\n"
     ]
    }
   ],
   "source": [
    "cal = \"93+3\"\n",
    "num = []\n",
    "op = []\n",
    "for i in cal:\n",
    "    if i.isnumeric():\n",
    "        num.append(i)\n",
    "    else:\n",
    "        op.append(i)\n",
    "\n",
    "print(num)\n",
    "print(op)"
   ]
  },
  {
   "cell_type": "code",
   "execution_count": 2,
   "id": "43ef3819",
   "metadata": {},
   "outputs": [
    {
     "data": {
      "text/plain": [
       "279"
      ]
     },
     "execution_count": 2,
     "metadata": {},
     "output_type": "execute_result"
    }
   ],
   "source": [
    "cal = \"93x3\"\n",
    "op = ['+','-','x','/']\n",
    "\n",
    "# Loop through each operator to check which one is present in the expression\n",
    "for i in op:\n",
    "    if i in cal:\n",
    "        # Split the expression into left and right operands based on the operator\n",
    "        left, right = cal.split(i)\n",
    "        # Perform the corresponding arithmetic operation based on the operator found\n",
    "        result = int(left) + int(right) if i == '+' else \\\n",
    "                 int(left) - int(right) if i == '-' else \\\n",
    "                 int(left) * int(right) if i == 'x' else \\\n",
    "                 int(left) / int(right) if i == '/' else None\n",
    "result  # Output the result of the calculation"
   ]
  },
  {
   "cell_type": "code",
   "execution_count": 3,
   "id": "15791a71",
   "metadata": {},
   "outputs": [
    {
     "ename": "SyntaxError",
     "evalue": "invalid non-printable character U+202F (2567485323.py, line 3)",
     "output_type": "error",
     "traceback": [
      "  \u001b[36mCell\u001b[39m\u001b[36m \u001b[39m\u001b[32mIn[3]\u001b[39m\u001b[32m, line 3\u001b[39m\n\u001b[31m    \u001b[39m\u001b[31mTopics: Operators, if/else\u001b[39m\n           ^\n\u001b[31mSyntaxError\u001b[39m\u001b[31m:\u001b[39m invalid non-printable character U+202F\n"
     ]
    }
   ],
   "source": [
    "Assignment 2: Simple Calculator \n",
    "\n",
    "Topics: Operators, if/else \n",
    "Task: \n",
    "Create a calculator that: \n",
    "\n",
    "Takes two numbers and an operator (+, -, *, /) \n",
    "\n",
    "Performs the operation and displays the result \n",
    "\n",
    "Handles division by zero "
   ]
  },
  {
   "cell_type": "code",
   "execution_count": 7,
   "id": "b37d07e7",
   "metadata": {},
   "outputs": [
    {
     "data": {
      "text/plain": [
       "24"
      ]
     },
     "execution_count": 7,
     "metadata": {},
     "output_type": "execute_result"
    }
   ],
   "source": [
    "import re\n",
    "\n",
    "cal = \"3+4x3+3\"\n",
    "op = ['+', '-', 'x', '/']\n",
    "\n",
    "# Use regular expressions to split the string into numbers and operators\n",
    "# \\d+ matches one or more digits, [+\\-x/] matches any operator\n",
    "tokens = re.findall(r'\\d+|[+\\-x/]', cal)\n",
    "\n",
    "# Initialize result with the first number in the tokens list\n",
    "result = int(tokens[0])\n",
    "\n",
    "i = 1\n",
    "# Iterate through the tokens, processing operator and operand pairs\n",
    "while i < len(tokens):\n",
    "    operator = tokens[i]         # Get the operator\n",
    "    operand = int(tokens[i+1])   # Get the next number (operand)\n",
    "    if operator == 'x':\n",
    "        result *= operand        # Add operand if operator is '+'\n",
    "    elif operator == '/':\n",
    "        result /= operand        # Subtract operand if operator is '-'\n",
    "    elif operator == '+':\n",
    "        result += operand        # Multiply operand if operator is 'x'\n",
    "    elif operator == '-':\n",
    "        result -= operand        # Divide operand if operator is '/'\n",
    "    i += 2                      # Move to the next operator-operand pair\n",
    "\n",
    "result  # Final result of the expression"
   ]
  },
  {
   "cell_type": "code",
   "execution_count": 54,
   "id": "0d0ade62",
   "metadata": {},
   "outputs": [
    {
     "name": "stdout",
     "output_type": "stream",
     "text": [
      "Expression: 93x3+3\n",
      "Tokens: ['93', 'x', '3', '+', '3']\n",
      "Result: 282\n"
     ]
    }
   ],
   "source": [
    "# The variables cal, op, tokens, and result are already defined.\n",
    "# If you want to print the result of the calculation for cal using the parsed tokens:\n",
    "\n",
    "print(f\"Expression: {cal}\")\n",
    "print(f\"Tokens: {tokens}\")\n",
    "print(f\"Result: {result}\")"
   ]
  },
  {
   "cell_type": "markdown",
   "id": "983512a9",
   "metadata": {},
   "source": [
    "Assignment 3: Word Formatter \n",
    "\n",
    "Topics: String methods \n",
    "Task: \n",
    "Take a sentence and: \n",
    "\n",
    "Convert it to title case \n",
    "\n",
    "Count the number of words \n",
    "\n",
    "Replace all spaces with hyphens "
   ]
  },
  {
   "cell_type": "code",
   "execution_count": 19,
   "id": "bf9361c2",
   "metadata": {},
   "outputs": [
    {
     "name": "stdout",
     "output_type": "stream",
     "text": [
      "Title case: My Name Is Kuamr\n",
      "Total number of words: 4\n",
      "Hyphenated sentence: my-name-is-kuamr\n"
     ]
    }
   ],
   "source": [
    "sentence = input(\"Enter the sentence:\")\n",
    "# Convert sentence to title case\n",
    "title_case = sentence.title()\n",
    "\n",
    "# Count the number of words\n",
    "word_count = len(sentence.split())\n",
    "\n",
    "# Replace all spaces with hyphens\n",
    "hyphen_sentence = sentence.replace(\" \", \"-\")\n",
    "\n",
    "print(f\"Title case: {title_case}\")\n",
    "print(f\"Total number of words: {word_count}\")\n",
    "print(f\"Hyphenated sentence: {hyphen_sentence}\")"
   ]
  },
  {
   "cell_type": "markdown",
   "id": "fa66ec5b",
   "metadata": {},
   "source": [
    "ShapeAssignment 4: Grade Evaluator \n",
    "\n",
    "Topics: if/else, comparison operators \n",
    "Task: \n",
    "Take a student's score (0–100) and print the grade: \n",
    "\n",
    "90–100: A \n",
    "\n",
    "80–89: B \n",
    "\n",
    "70–79: C \n",
    "\n",
    "60–69: D \n",
    "\n",
    "Below 60: F "
   ]
  },
  {
   "cell_type": "code",
   "execution_count": 21,
   "id": "60f8295f",
   "metadata": {},
   "outputs": [
    {
     "name": "stdout",
     "output_type": "stream",
     "text": [
      "Grade B\n"
     ]
    }
   ],
   "source": [
    "student_mark = int(input(\"enter the student mark:\"))\n",
    "\n",
    "if student_mark > 90 & student_mark <= 100:\n",
    "    print(\"Grade A\")\n",
    "\n",
    "elif student_mark > 80 & student_mark <= 90:\n",
    "    print(\"Grade B\")\n",
    "\n",
    "elif student_mark > 70 & student_mark <= 80:\n",
    "    print(\"Grade C\")\n",
    "\n",
    "elif student_mark > 60 & student_mark <= 70:\n",
    "    print(\"Grade D\")\n",
    "\n",
    "elif student_mark < 60 :\n",
    "    print(\"Grade F\")"
   ]
  },
  {
   "cell_type": "markdown",
   "id": "72499328",
   "metadata": {},
   "source": [
    "Sum of Even Numbers \n",
    "\n",
    "Write a program that takes a list of numbers(including odd and even numbers) and prints the sum of all even numbers using a for loop. \n",
    "\n",
    "Ex: [1,2,3,4,6,7,8,12]. Run the loop for the list and do the sum if the number is even  "
   ]
  },
  {
   "cell_type": "code",
   "execution_count": 23,
   "id": "0b0e256d",
   "metadata": {},
   "outputs": [
    {
     "name": "stdout",
     "output_type": "stream",
     "text": [
      "Sum of even numbers = 32\n"
     ]
    }
   ],
   "source": [
    "lst = [1,2,3,4,6,7,8,12]\n",
    "sum = 0\n",
    "for i in lst:\n",
    "    if i%2 == 0:\n",
    "        sum+=i\n",
    "print(f\"Sum of even numbers = {sum}\")"
   ]
  },
  {
   "cell_type": "markdown",
   "id": "593058a9",
   "metadata": {},
   "source": [
    "Find the Maximum Number \n",
    "\n",
    "Iterate through a list and find the largest number without using the built-in max() function. "
   ]
  },
  {
   "cell_type": "code",
   "execution_count": 24,
   "id": "07f16cc9",
   "metadata": {},
   "outputs": [
    {
     "name": "stdout",
     "output_type": "stream",
     "text": [
      "The maximum number in the list is 12\n"
     ]
    }
   ],
   "source": [
    "lst = [1,2,3,4,6,7,8,12]\n",
    "max = 0\n",
    "for i in lst:\n",
    "    if i > max:\n",
    "        max = i\n",
    "print(f\"The maximum number in the list is {max}\")"
   ]
  },
  {
   "cell_type": "markdown",
   "id": "920ad4ec",
   "metadata": {},
   "source": [
    " Using break \n",
    "\n",
    "Search for a Number \n",
    "Ask the user to input a number. Search for it in a predefined list. If found, print \"Found!\" and break the loop."
   ]
  },
  {
   "cell_type": "code",
   "execution_count": null,
   "id": "2ca1a818",
   "metadata": {},
   "outputs": [
    {
     "data": {
      "text/plain": [
       "'Not Found!'"
      ]
     },
     "execution_count": 25,
     "metadata": {},
     "output_type": "execute_result"
    }
   ],
   "source": [
    "def search(lst, num):\n",
    "    if num in lst:\n",
    "        return \"Found!\"\n",
    "    else:\n",
    "        return \"Not Found!\"\n",
    "\n",
    "lst = [89, 57, 82, 39, 40, 20]\n",
    "search(lst, 34)"
   ]
  },
  {
   "cell_type": "markdown",
   "id": "c666e334",
   "metadata": {},
   "source": [
    "Using continue \n",
    "\n",
    "Skip Vowels \n",
    "Loop through a list of characters and print only the consonants using continue to skip vowels. "
   ]
  },
  {
   "cell_type": "code",
   "execution_count": 33,
   "id": "94a42eb0",
   "metadata": {},
   "outputs": [
    {
     "name": "stdout",
     "output_type": "stream",
     "text": [
      "n t d   s t t s   f   m r c "
     ]
    }
   ],
   "source": [
    "word = 'united states of america'\n",
    "for i in word:\n",
    "    if i in ['a','e','i','o','u']:\n",
    "        continue\n",
    "    else:\n",
    "        print(i, end=' ')\n"
   ]
  },
  {
   "cell_type": "code",
   "execution_count": 17,
   "id": "c954212f",
   "metadata": {},
   "outputs": [
    {
     "name": "stdout",
     "output_type": "stream",
     "text": [
      "2 3 5 7 11 13 17 19 23 29 31 37 41 43 47 53 59 61 67 71 73 79 83 89 97 "
     ]
    }
   ],
   "source": [
    "# Print all prime numbers from 1 to 100\n",
    "for num in range(1, 101):\n",
    "    if num > 1:\n",
    "        for i in range(2, num):\n",
    "            if num % i == 0:\n",
    "                break\n",
    "        else:\n",
    "            print(num, end= \" \")\n"
   ]
  },
  {
   "cell_type": "code",
   "execution_count": 16,
   "id": "601b06f3",
   "metadata": {},
   "outputs": [
    {
     "data": {
      "text/plain": [
       "{1: 1, 2: 2, 3: 3, 4: 5}"
      ]
     },
     "execution_count": 16,
     "metadata": {},
     "output_type": "execute_result"
    }
   ],
   "source": [
    "numbers = [1,2,2,3,3,3,4,4,4,4,4]\n",
    "counts = {}\n",
    "for i in numbers:\n",
    "    if i in counts:\n",
    "        counts[i] += 1\n",
    "    else:\n",
    "        counts[i] = 1\n",
    "counts\n"
   ]
  },
  {
   "cell_type": "code",
   "execution_count": null,
   "id": "2d2c0761",
   "metadata": {},
   "outputs": [],
   "source": []
  }
 ],
 "metadata": {
  "kernelspec": {
   "display_name": "python_venv",
   "language": "python",
   "name": "python3"
  },
  "language_info": {
   "codemirror_mode": {
    "name": "ipython",
    "version": 3
   },
   "file_extension": ".py",
   "mimetype": "text/x-python",
   "name": "python",
   "nbconvert_exporter": "python",
   "pygments_lexer": "ipython3",
   "version": "3.12.4"
  }
 },
 "nbformat": 4,
 "nbformat_minor": 5
}
