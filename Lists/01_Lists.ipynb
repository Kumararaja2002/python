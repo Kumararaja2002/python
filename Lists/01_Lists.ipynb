{
 "cells": [
  {
   "cell_type": "markdown",
   "id": "41a47e95",
   "metadata": {},
   "source": [
    "# LISTS\n",
    "\n",
    "Lists in Python are ordered, mutable collections that can hold items of any data type. They are defined using square brackets `[]`, and items are separated by commas. Lists support indexing, slicing, and a variety of methods for adding, removing, and modifying elements. For example:\n",
    "\n",
    "- Creating a list: `my_list = [1, 2, 3, 'apple', True]`\n",
    "- Accessing elements: `my_list[0]` returns `1`\n",
    "- Modifying elements: `my_list[1] = 'banana'`\n",
    "- Adding elements: `my_list.append('new item')`\n",
    "- Removing elements: `my_list.remove(3)`\n",
    "\n",
    "Lists are commonly used for storing sequences of items and iterating over them in Python programs."
   ]
  },
  {
   "cell_type": "markdown",
   "id": "28661ba6",
   "metadata": {},
   "source": [
    "### LIST OPERATIONS\n",
    "\n",
    "This section demonstrates various operations that can be performed on lists in Python, such as accessing elements, traversing, inserting, appending, extending, removing, deleting, slicing, updating, popping, and searching for elements. These operations allow you to efficiently manage and manipulate list data in your programs."
   ]
  },
  {
   "cell_type": "code",
   "execution_count": 471,
   "id": "4b787ae3",
   "metadata": {},
   "outputs": [],
   "source": [
    "import numpy as np\n",
    "import pandas as pd"
   ]
  },
  {
   "cell_type": "code",
   "execution_count": 472,
   "id": "9b469b15",
   "metadata": {},
   "outputs": [
    {
     "data": {
      "text/plain": [
       "3"
      ]
     },
     "execution_count": 472,
     "metadata": {},
     "output_type": "execute_result"
    }
   ],
   "source": [
    "# ACCESSING / TRAVERSING THE LIST\n",
    "\n",
    "my_list = [1, 2, 3, 'apple', True]\n",
    "my_list[2]"
   ]
  },
  {
   "cell_type": "code",
   "execution_count": 473,
   "id": "a3644eea",
   "metadata": {},
   "outputs": [
    {
     "data": {
      "text/plain": [
       "True"
      ]
     },
     "execution_count": 473,
     "metadata": {},
     "output_type": "execute_result"
    }
   ],
   "source": [
    "# IN OPERATOR\n",
    "\n",
    "'apple' in my_list"
   ]
  },
  {
   "cell_type": "code",
   "execution_count": 474,
   "id": "a44ef33c",
   "metadata": {},
   "outputs": [
    {
     "name": "stdout",
     "output_type": "stream",
     "text": [
      "1\n",
      "2\n",
      "3\n",
      "apple\n",
      "True\n"
     ]
    }
   ],
   "source": [
    "# TRAVERSE A LIST\n",
    "\n",
    "for i in my_list:\n",
    "    print(i)"
   ]
  },
  {
   "cell_type": "code",
   "execution_count": 475,
   "id": "75c9b89f",
   "metadata": {},
   "outputs": [
    {
     "data": {
      "text/plain": [
       "[1, 2, 5, 3, 'apple', True]"
      ]
     },
     "execution_count": 475,
     "metadata": {},
     "output_type": "execute_result"
    }
   ],
   "source": [
    "# INSERT AN ELEMENT INTO A LIST\n",
    "\n",
    "my_list.insert(2, 5) # this will insert the element 5 in the index 2.\n",
    "my_list"
   ]
  },
  {
   "cell_type": "code",
   "execution_count": 476,
   "id": "40c384e2",
   "metadata": {},
   "outputs": [
    {
     "data": {
      "text/plain": [
       "[1, 2, 5, 3, 'apple', True, 'kumar']"
      ]
     },
     "execution_count": 476,
     "metadata": {},
     "output_type": "execute_result"
    }
   ],
   "source": [
    "# APPEND AN ELEMENT TO A LIST \n",
    "\n",
    "my_list.append('kumar') # this will add an element at the end of a list\n",
    "my_list"
   ]
  },
  {
   "cell_type": "code",
   "execution_count": 477,
   "id": "500d6339",
   "metadata": {},
   "outputs": [
    {
     "data": {
      "text/plain": [
       "[1, 2, 5, 3, 'apple', True, 'kumar', 2, 3, 78, 'grapes', 'banana']"
      ]
     },
     "execution_count": 477,
     "metadata": {},
     "output_type": "execute_result"
    }
   ],
   "source": [
    "# EXTEND METHOD\n",
    "\n",
    "my_list.extend([2,3,78,'grapes','banana']) # add a list to an another list\n",
    "my_list"
   ]
  },
  {
   "cell_type": "code",
   "execution_count": 478,
   "id": "d56ee7af",
   "metadata": {},
   "outputs": [
    {
     "data": {
      "text/plain": [
       "[1, 2, 5, 3, 'apple', True, 2, 3, 78, 'grapes', 'banana']"
      ]
     },
     "execution_count": 478,
     "metadata": {},
     "output_type": "execute_result"
    }
   ],
   "source": [
    "# REMOVE AN ELEMENT IN A LIST\n",
    "\n",
    "my_list.remove('kumar')\n",
    "my_list"
   ]
  },
  {
   "cell_type": "code",
   "execution_count": 479,
   "id": "b86e891d",
   "metadata": {},
   "outputs": [
    {
     "data": {
      "text/plain": [
       "[1, 2, 3, 'apple', True, 2, 3, 78, 'grapes', 'banana']"
      ]
     },
     "execution_count": 479,
     "metadata": {},
     "output_type": "execute_result"
    }
   ],
   "source": [
    "# DELETE AN ELEMENT IN A LIST\n",
    "\n",
    "del my_list[2] # this delete the element in the index 2\n",
    "my_list"
   ]
  },
  {
   "cell_type": "code",
   "execution_count": 480,
   "id": "78c79e1b",
   "metadata": {},
   "outputs": [
    {
     "data": {
      "text/plain": [
       "[1, 2, 3, 'apple', True]"
      ]
     },
     "execution_count": 480,
     "metadata": {},
     "output_type": "execute_result"
    }
   ],
   "source": [
    "# SLICING A LIST\n",
    "\n",
    "my_list[:5]"
   ]
  },
  {
   "cell_type": "code",
   "execution_count": 481,
   "id": "ab49c581",
   "metadata": {},
   "outputs": [
    {
     "data": {
      "text/plain": [
       "[1, 2, 3, 'apple', True, 2, 3, 78, 'rose', 'jasmine']"
      ]
     },
     "execution_count": 481,
     "metadata": {},
     "output_type": "execute_result"
    }
   ],
   "source": [
    "# UPDATE A LIST\n",
    "\n",
    "my_list[-2:] = ['rose','jasmine'] # this updates the last two elements in a list\n",
    "my_list"
   ]
  },
  {
   "cell_type": "code",
   "execution_count": 482,
   "id": "c1aa96c5",
   "metadata": {},
   "outputs": [
    {
     "data": {
      "text/plain": [
       "[1, 2, 3, 'apple', True, 2, 3, 78, 'rose']"
      ]
     },
     "execution_count": 482,
     "metadata": {},
     "output_type": "execute_result"
    }
   ],
   "source": [
    "# POP METHOD TO DELETE THE LAST ELEMENT IN A LIST\n",
    "\n",
    "my_list.pop()\n",
    "my_list\n"
   ]
  },
  {
   "cell_type": "code",
   "execution_count": 483,
   "id": "57da618c",
   "metadata": {},
   "outputs": [
    {
     "data": {
      "text/plain": [
       "'rose'"
      ]
     },
     "execution_count": 483,
     "metadata": {},
     "output_type": "execute_result"
    }
   ],
   "source": [
    "my_list.pop() # this provides you the last element in a list"
   ]
  },
  {
   "cell_type": "code",
   "execution_count": 484,
   "id": "d13444f1",
   "metadata": {},
   "outputs": [
    {
     "name": "stdout",
     "output_type": "stream",
     "text": [
      "No\n"
     ]
    }
   ],
   "source": [
    "# SEARCH FOR AN ELEMENT IN A LIST\n",
    "\n",
    "element = 4\n",
    "if element in my_list:\n",
    "    print('Yes')\n",
    "else:\n",
    "    print('No')"
   ]
  },
  {
   "cell_type": "code",
   "execution_count": 485,
   "id": "762c17d1",
   "metadata": {},
   "outputs": [
    {
     "data": {
      "text/plain": [
       "[1, 2, 3, 'apple', True, 2, 3, 78]"
      ]
     },
     "execution_count": 485,
     "metadata": {},
     "output_type": "execute_result"
    }
   ],
   "source": [
    "my_list"
   ]
  },
  {
   "cell_type": "code",
   "execution_count": 486,
   "id": "8dcd8a12",
   "metadata": {},
   "outputs": [
    {
     "data": {
      "text/plain": [
       "3"
      ]
     },
     "execution_count": 486,
     "metadata": {},
     "output_type": "execute_result"
    }
   ],
   "source": [
    "# LINEAR SEARCH FOR AN ELEMENT IN A LIST\n",
    "\n",
    "def search(list, element):\n",
    "    for index,value in enumerate(list):\n",
    "        if value == element:\n",
    "            return index\n",
    "    return -1\n",
    "\n",
    "search(my_list,'apple')"
   ]
  },
  {
   "cell_type": "markdown",
   "id": "8549e5a4",
   "metadata": {},
   "source": [
    "### LIST OPERATIONS\n",
    "\n",
    "You can perform various operations on lists such as concatenation, repetition, and more:\n",
    "\n",
    "- **Concatenation:** Combine two lists using the `+` operator.  \n",
    "    Example: `new_list = my_list + [10, 20]`\n",
    "\n",
    "- **Repetition:** Repeat a list using the `*` operator.  \n",
    "    Example: `repeated_list = my_list * 2`\n",
    "\n",
    "- **Length:** Get the number of elements using `len()`.  \n",
    "    Example: `length = len(my_list)`\n",
    "\n",
    "- **Min/Max:** Find the minimum or maximum value (works with comparable elements).  \n",
    "    Example: `min_value = min([1, 2, 3])`\n",
    "\n",
    "- **Sorting:** Sort a list using `sorted()` or `.sort()`.  \n",
    "    Example: `sorted_list = sorted(my_list)`\n",
    "\n",
    "- **Copying:** Create a shallow copy using `.copy()`.  \n",
    "    Example: `copy_list = my_list.copy()`\n",
    "\n",
    "These operations make lists flexible and powerful for handling collections of data in Python."
   ]
  },
  {
   "cell_type": "code",
   "execution_count": 487,
   "id": "870e983f",
   "metadata": {},
   "outputs": [
    {
     "data": {
      "text/plain": [
       "[1, 2, 3, 'apple', True, 2, 3, 78, 10, 20, 30]"
      ]
     },
     "execution_count": 487,
     "metadata": {},
     "output_type": "execute_result"
    }
   ],
   "source": [
    "# CONCAT\n",
    "\n",
    "my_list = my_list + [10,20,30]\n",
    "my_list\n"
   ]
  },
  {
   "cell_type": "code",
   "execution_count": 488,
   "id": "6370a4d4",
   "metadata": {},
   "outputs": [
    {
     "data": {
      "text/plain": [
       "[1,\n",
       " 2,\n",
       " 3,\n",
       " 'apple',\n",
       " True,\n",
       " 2,\n",
       " 3,\n",
       " 78,\n",
       " 10,\n",
       " 20,\n",
       " 30,\n",
       " 1,\n",
       " 2,\n",
       " 3,\n",
       " 'apple',\n",
       " True,\n",
       " 2,\n",
       " 3,\n",
       " 78,\n",
       " 10,\n",
       " 20,\n",
       " 30]"
      ]
     },
     "execution_count": 488,
     "metadata": {},
     "output_type": "execute_result"
    }
   ],
   "source": [
    "# REPEATATION\n",
    "\n",
    "my_list * 2\n"
   ]
  },
  {
   "cell_type": "code",
   "execution_count": 489,
   "id": "a4c9c476",
   "metadata": {},
   "outputs": [
    {
     "data": {
      "text/plain": [
       "11"
      ]
     },
     "execution_count": 489,
     "metadata": {},
     "output_type": "execute_result"
    }
   ],
   "source": [
    "# COUNT \n",
    "\n",
    "len(my_list)"
   ]
  },
  {
   "cell_type": "code",
   "execution_count": 490,
   "id": "4d602819",
   "metadata": {},
   "outputs": [
    {
     "data": {
      "text/plain": [
       "78"
      ]
     },
     "execution_count": 490,
     "metadata": {},
     "output_type": "execute_result"
    }
   ],
   "source": [
    "# MAX\n",
    "\n",
    "# You can find the maximum value in a list using the max() function.\n",
    "# Note: max() will raise a TypeError if the list contains incomparable types (e.g., int and str).\n",
    "# my_list contains both integers and a string ('apple'), so max(my_list) will cause an error.\n",
    "# To find the max among only the integers, you can use a list comprehension:\n",
    "\n",
    "max([x for x in my_list if isinstance(x, int)]) # list comprehension"
   ]
  },
  {
   "cell_type": "code",
   "execution_count": 491,
   "id": "7741925b",
   "metadata": {},
   "outputs": [
    {
     "data": {
      "text/plain": [
       "'apple'"
      ]
     },
     "execution_count": 491,
     "metadata": {},
     "output_type": "execute_result"
    }
   ],
   "source": [
    "# MIN\n",
    "\n",
    "min(x for x in my_list if isinstance(x,str))"
   ]
  },
  {
   "cell_type": "code",
   "execution_count": 492,
   "id": "4c11a7ff",
   "metadata": {},
   "outputs": [],
   "source": [
    "# SUM\n",
    "\n",
    "number = np.random.randint(10, 100, size=10)\n",
    "# Convert each element in number to int (redundant if already int)\n",
    "number = list(map(int, number))\n",
    "# Use a different variable name to avoid overwriting the built-in sum() function and the existing variable 'sum'\n",
    "# sum(number)\n",
    "\n"
   ]
  },
  {
   "cell_type": "markdown",
   "id": "3e844ea9",
   "metadata": {},
   "source": [
    "The `map()` function in Python applies a given function to each item of an iterable (like a list or tuple) and returns a map object (which can be converted to a list, tuple, etc.).\n",
    "\n",
    "**Syntax:**  \n",
    "`map(function, iterable, ...)`\n",
    "\n",
    "- `function`: The function to apply to each element.\n",
    "- `iterable`: One or more iterables whose elements are processed by the function.\n",
    "\n",
    "The `map()` function is useful for transforming data without writing explicit loops."
   ]
  },
  {
   "cell_type": "code",
   "execution_count": 493,
   "id": "66776c08",
   "metadata": {},
   "outputs": [
    {
     "data": {
      "text/plain": [
       "['R', 'o', 'h', 'i', 't', ' ', 'S', 'h', 'a', 'r', 'm', 'a']"
      ]
     },
     "execution_count": 493,
     "metadata": {},
     "output_type": "execute_result"
    }
   ],
   "source": [
    "# TO LIST\n",
    "\n",
    "str_name = 'Rohit Sharma'\n",
    "list(str_name)"
   ]
  },
  {
   "cell_type": "markdown",
   "id": "a56313e7",
   "metadata": {},
   "source": [
    "### LISTS AND STRINGS\n",
    "\n",
    "[LIST METHODS]('https://www.w3schools.com/python/python_lists_methods.asp')\n",
    "\n",
    "- list --> stores the values\\\n",
    "- strings --> stores the character"
   ]
  },
  {
   "cell_type": "code",
   "execution_count": 494,
   "id": "9a805d29",
   "metadata": {},
   "outputs": [
    {
     "data": {
      "text/plain": [
       "['Rohit', 'Sharma']"
      ]
     },
     "execution_count": 494,
     "metadata": {},
     "output_type": "execute_result"
    }
   ],
   "source": [
    "# SPLIT METHOD\n",
    "\n",
    "str_name.split() # ' ' space is used as default delimiter, we can use any demiliter inside the split(demiliter)\n",
    "\n",
    "# rohit-sharma --> str_name.split(-)"
   ]
  },
  {
   "cell_type": "code",
   "execution_count": 495,
   "id": "5b2cc667",
   "metadata": {},
   "outputs": [
    {
     "data": {
      "text/plain": [
       "'R-o-h-i-t- -S-h-a-r-m-a'"
      ]
     },
     "execution_count": 495,
     "metadata": {},
     "output_type": "execute_result"
    }
   ],
   "source": [
    "# JOIN METHOD\n",
    "\n",
    "'-'.join(str_name)"
   ]
  },
  {
   "cell_type": "code",
   "execution_count": 496,
   "id": "d060684b",
   "metadata": {},
   "outputs": [
    {
     "data": {
      "text/plain": [
       "[23, 38, 65, 67, 71, 72, 73, 89, 94, 99]"
      ]
     },
     "execution_count": 496,
     "metadata": {},
     "output_type": "execute_result"
    }
   ],
   "source": [
    "# SORT METHOD\n",
    "\n",
    "number.sort()\n",
    "number"
   ]
  },
  {
   "cell_type": "markdown",
   "id": "571e8728",
   "metadata": {},
   "source": [
    "### LIST COMPREHENSION\n",
    "List comprehension provides a concise way to create lists in Python. It allows you to generate a new list by applying an expression to each item in an iterable, optionally filtering items with a condition.\n",
    "\n",
    "**Syntax:**  \n",
    "`[expression **for** item **in** iterable **if condition**]`\n",
    "\n",
    "- **expression:** The value to store in the new list.\n",
    "- **item:** The variable representing each element in the iterable.\n",
    "- **iterable:** A sequence (like a list, string, or range).\n",
    "- **condition (optional):** Only include items where this is `True`.\n",
    "\n",
    "**Examples:**\n",
    "\n",
    "- Create a list of squares:  \n",
    "    `[x**2 for x in range(5)]  # Output: [0, 1, 4, 9, 16]`\n",
    "\n",
    "- Filter even numbers:  \n",
    "    `[x for x in number if x % 2 == 0]  # Output: [22, 26, 47, 47, 58, 64, 94]` (using the variable `number`)\n",
    "\n",
    "List comprehensions are more readable and efficient than using loops for list creation."
   ]
  },
  {
   "cell_type": "code",
   "execution_count": 497,
   "id": "12243431",
   "metadata": {},
   "outputs": [
    {
     "data": {
      "text/plain": [
       "[46, 76, 130, 134, 142, 144, 146, 178, 188, 198]"
      ]
     },
     "execution_count": 497,
     "metadata": {},
     "output_type": "execute_result"
    }
   ],
   "source": [
    "# LIST COMPREHENSION\n",
    "# [expression **for** item **in** iterable ]\n",
    "\n",
    "multiple_2 = [i*2 for i in number]\n",
    "multiple_2"
   ]
  },
  {
   "cell_type": "code",
   "execution_count": 498,
   "id": "eb5c1538",
   "metadata": {},
   "outputs": [
    {
     "data": {
      "text/plain": [
       "[38, 72, 94]"
      ]
     },
     "execution_count": 498,
     "metadata": {},
     "output_type": "execute_result"
    }
   ],
   "source": [
    "# CONDITIONAL LIST COMPREHENSION\n",
    "# [expression **for** item **in** iterable **if condition**]\n",
    "\n",
    "even_number = [x for x in number if x%2==0]\n",
    "even_number"
   ]
  },
  {
   "cell_type": "code",
   "execution_count": 499,
   "id": "3ea43b90",
   "metadata": {},
   "outputs": [
    {
     "data": {
      "text/plain": [
       "[1, 25, 49]"
      ]
     },
     "execution_count": 499,
     "metadata": {},
     "output_type": "execute_result"
    }
   ],
   "source": [
    "prev_list = [-1,3,4,-5,-7,0,8,2]\n",
    "new_list = [i*i for i in prev_list if i<0]\n",
    "new_list"
   ]
  },
  {
   "cell_type": "code",
   "execution_count": 500,
   "id": "572a9dd8",
   "metadata": {},
   "outputs": [
    {
     "data": {
      "text/plain": [
       "['r', 'o', 'h', 'i', 't', ' ', 's', 'h', 'a', 'r', 'm', 'a']"
      ]
     },
     "execution_count": 500,
     "metadata": {},
     "output_type": "execute_result"
    }
   ],
   "source": [
    "new_list = [i for i in 'rohit sharma'] # we can use list(rohit sharma)\n",
    "new_list"
   ]
  },
  {
   "cell_type": "code",
   "execution_count": 501,
   "id": "7e5bdf8a",
   "metadata": {},
   "outputs": [
    {
     "data": {
      "text/plain": [
       "['m', 'r', 'k']"
      ]
     },
     "execution_count": 501,
     "metadata": {},
     "output_type": "execute_result"
    }
   ],
   "source": [
    "sentence = input('enter your name:')\n",
    "\n",
    "def is_consonent(letter):\n",
    "    vowels = 'aeiou'\n",
    "    return letter.isalpha() and letter.lower() not in vowels\n",
    "\n",
    "consonent = [i for i in sentence if is_consonent(i)]\n",
    "# The set() function is used here to remove duplicate consonants from the list.\n",
    "# It converts the list 'consonent' into a set, which only keeps unique elements.\n",
    "# Then, list() converts the set back to a list of unique consonants.\n",
    "\n",
    "consonent = list(set(consonent)) # removes the duplicates\n",
    "consonent\n"
   ]
  },
  {
   "cell_type": "code",
   "execution_count": 502,
   "id": "f4978aae",
   "metadata": {},
   "outputs": [
    {
     "data": {
      "text/plain": [
       "['r', 'h', 't', ' ', 's', 'h', 'r', 'm']"
      ]
     },
     "execution_count": 502,
     "metadata": {},
     "output_type": "execute_result"
    }
   ],
   "source": [
    "vowels = 'aeiou'\n",
    "sentence = 'rohit sharma'\n",
    "consonent = [i for i in sentence if i not in vowels]\n",
    "consonent"
   ]
  },
  {
   "cell_type": "code",
   "execution_count": 503,
   "id": "a558ad83",
   "metadata": {},
   "outputs": [
    {
     "data": {
      "text/plain": [
       "[0, 3, 4, 0, 0, 0, 8, 2]"
      ]
     },
     "execution_count": 503,
     "metadata": {},
     "output_type": "execute_result"
    }
   ],
   "source": [
    "new_list = [i if i > 0 else 0 for i in prev_list]\n",
    "# new_list = [i for i in prev_list if i > 0 else 0] if we have else block we need to use the above syntax\n",
    "\n",
    "\"\"\"\n",
    "def get_number(number):\n",
    "    if number > 0:\n",
    "        return number\n",
    "    else:\n",
    "        return 0\n",
    "\n",
    "new_list = [get_number(i) for i in prev_list]\n",
    "\"\"\"\n",
    "\n",
    "new_list"
   ]
  },
  {
   "cell_type": "code",
   "execution_count": 504,
   "id": "57d25ac2",
   "metadata": {},
   "outputs": [
    {
     "name": "stdout",
     "output_type": "stream",
     "text": [
      "['Guava', 'Berry', 'Cherry', 'Papaya']\n",
      "['Guava', 'Berry', 'Cherry', 'Papaya']\n",
      "['Apple', 'Kiwi', 'Cherry', 'Papaya']\n",
      "22\n"
     ]
    }
   ],
   "source": [
    "fruit_list1 = ['Apple', 'Berry', 'Cherry', 'Papaya']\n",
    "fruit_list2 = fruit_list1\n",
    "fruit_list3 = fruit_list1[:]\n",
    " \n",
    "fruit_list2[0] = 'Guava'\n",
    "fruit_list3[1] = 'Kiwi'\n",
    "print(fruit_list1)\n",
    "print(fruit_list2)\n",
    "print(fruit_list3)\n",
    "tsum = 0\n",
    "for ls in (fruit_list1, fruit_list2, fruit_list3):\n",
    "    if ls[0] == 'Guava':\n",
    "        tsum += 1\n",
    "    if ls[1] == 'Kiwi':\n",
    "        tsum += 20\n",
    " \n",
    "print(tsum)"
   ]
  },
  {
   "cell_type": "code",
   "execution_count": 505,
   "id": "b65ecfb7",
   "metadata": {},
   "outputs": [
    {
     "data": {
      "text/plain": [
       "[1, 3, 5, 7, 9]"
      ]
     },
     "execution_count": 505,
     "metadata": {},
     "output_type": "execute_result"
    }
   ],
   "source": [
    "a=[1,2,3,4,5,6,7,8,9]\n",
    "a[::2]"
   ]
  },
  {
   "cell_type": "code",
   "execution_count": 506,
   "id": "9a43fcbf",
   "metadata": {},
   "outputs": [
    {
     "name": "stdout",
     "output_type": "stream",
     "text": [
      "2 3 4 5 6 6 "
     ]
    }
   ],
   "source": [
    "arr = [1, 2, 3, 4, 5, 6]\n",
    "for i in range(1, 6):\n",
    "    arr[i - 1] = arr[i]\n",
    "    # print(i,end=\" \")\n",
    "for i in range(0, 6): \n",
    "    print(arr[i], end = \" \")"
   ]
  },
  {
   "cell_type": "code",
   "execution_count": 507,
   "id": "7c3e635d",
   "metadata": {},
   "outputs": [
    {
     "name": "stdout",
     "output_type": "stream",
     "text": [
      "4\n"
     ]
    }
   ],
   "source": [
    "data = [[[1, 2], [3, 4]], [[5, 6], [7, 8]]]\n",
    "def fun(m):\n",
    "    v = m[0][0]  # Start with the first element\n",
    "    for row in m:\n",
    "        for element in row:\n",
    "            if v < element:\n",
    "                v = element  # Update v if a larger element is found\n",
    "    return v\n",
    "\n",
    "print(fun(data[0])) # [[1,2],[3,4]]\n"
   ]
  },
  {
   "cell_type": "code",
   "execution_count": 508,
   "id": "9401868d",
   "metadata": {},
   "outputs": [
    {
     "name": "stdout",
     "output_type": "stream",
     "text": [
      "[4, 3, 2]\n"
     ]
    }
   ],
   "source": [
    "a=[1,2,3,4,5]\n",
    "print(a[3:0:-1])"
   ]
  },
  {
   "cell_type": "code",
   "execution_count": 509,
   "id": "63ad68d3",
   "metadata": {},
   "outputs": [
    {
     "name": "stdout",
     "output_type": "stream",
     "text": [
      "4\n",
      "7\n",
      "11\n",
      "15\n"
     ]
    }
   ],
   "source": [
    "arr = [[1, 2, 3, 4],\n",
    "       [4, 5, 6, 7],\n",
    "       [8, 9, 10, 11],\n",
    "       [12, 13, 14, 15]]\n",
    "\n",
    "for i in range(0, 4):\n",
    "    print(arr[i].pop())\n",
    "\n",
    "# [[1, 2, 3, 4],    --> 0 /4\n",
    "# [4, 5, 6, 7],     --> 1 /7\n",
    "# [8, 9, 10, 11],   --> 2 /11\n",
    "# [12, 13, 14, 15]] --> 3 /15\n"
   ]
  },
  {
   "cell_type": "code",
   "execution_count": 510,
   "id": "71026a11",
   "metadata": {},
   "outputs": [
    {
     "data": {
      "text/plain": [
       "['papaya', 'cherry', 'banana', 'apple']"
      ]
     },
     "execution_count": 510,
     "metadata": {},
     "output_type": "execute_result"
    }
   ],
   "source": [
    "import random\n",
    "fruit=['apple', 'banana', 'papaya', 'cherry']\n",
    "random.shuffle(fruit)\n",
    "fruit"
   ]
  },
  {
   "cell_type": "code",
   "execution_count": 511,
   "id": "e9f1d972",
   "metadata": {},
   "outputs": [
    {
     "name": "stdout",
     "output_type": "stream",
     "text": [
      "3 44\n"
     ]
    }
   ],
   "source": [
    "def f(value, values):\n",
    "    v = 1\n",
    "    values[0] = 44\n",
    "t = 3\n",
    "v = [1, 2, 3]\n",
    "f(t, v)\n",
    "print(t, v[0])"
   ]
  },
  {
   "cell_type": "code",
   "execution_count": null,
   "id": "fb1ea761",
   "metadata": {},
   "outputs": [
    {
     "data": {
      "text/plain": [
       "4.0"
      ]
     },
     "execution_count": 512,
     "metadata": {},
     "output_type": "execute_result"
    }
   ],
   "source": [
    "# FIND THE AVERAGE TEMPERATURE\n",
    "\n",
    "no_of_days = int(input('enter number of days:'))\n",
    "temp = []\n",
    "total=0\n",
    "for i in range(1,no_of_days+1):\n",
    "    tempt = float(input(f'enter Day:{i+1} Temperature:'))\n",
    "    temp.append(tempt)\n",
    "    total+=tempt\n",
    "average = round(total / no_of_days, 2)\n",
    "average"
   ]
  },
  {
   "cell_type": "code",
   "execution_count": null,
   "id": "54e306dc",
   "metadata": {},
   "outputs": [],
   "source": []
  }
 ],
 "metadata": {
  "kernelspec": {
   "display_name": "python_venv",
   "language": "python",
   "name": "python3"
  },
  "language_info": {
   "codemirror_mode": {
    "name": "ipython",
    "version": 3
   },
   "file_extension": ".py",
   "mimetype": "text/x-python",
   "name": "python",
   "nbconvert_exporter": "python",
   "pygments_lexer": "ipython3",
   "version": "3.12.4"
  }
 },
 "nbformat": 4,
 "nbformat_minor": 5
}
