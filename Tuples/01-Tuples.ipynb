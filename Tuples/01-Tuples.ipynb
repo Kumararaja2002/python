{
 "cells": [
  {
   "cell_type": "markdown",
   "id": "70a4bbc4",
   "metadata": {},
   "source": [
    "# TUPLES\n",
    "\n",
    "A **tuple** is an immutable, ordered collection of elements in Python. Tuples can store elements of different data types (such as integers, strings, or even other tuples). Once created, the elements of a tuple cannot be changed, added, or removed.\n",
    "\n",
    "**Key features of tuples:**\n",
    "- Defined using parentheses: `(1, 2, 3)`\n",
    "- Immutable: cannot be modified after creation\n",
    "- Can contain elements of different types: `('apple', 3.14, 42)`\n",
    "- Support indexing and slicing: `my_tuple[0]`, `my_tuple[1:3]`\n",
    "- Useful for fixed collections of items, such as coordinates or database records\n",
    "\n",
    "**Example:**\n",
    "```python\n",
    "my_tuple = (10, 'hello', 3.5)\n",
    "print(my_tuple[1])  # Output: hello\n",
    "```\n",
    "\n",
    "Tuples are often used when you want to ensure that the data cannot be changed accidentally."
   ]
  },
  {
   "cell_type": "code",
   "execution_count": 11,
   "id": "f59aab5e",
   "metadata": {},
   "outputs": [
    {
     "data": {
      "text/plain": [
       "('a', 'b', 'c', 'd', 'e')"
      ]
     },
     "execution_count": 11,
     "metadata": {},
     "output_type": "execute_result"
    }
   ],
   "source": [
    "newTuple = tuple('abcde')\n",
    "newTuple"
   ]
  },
  {
   "cell_type": "code",
   "execution_count": 12,
   "id": "b3d8b5a2",
   "metadata": {},
   "outputs": [
    {
     "data": {
      "text/plain": [
       "'d'"
      ]
     },
     "execution_count": 12,
     "metadata": {},
     "output_type": "execute_result"
    }
   ],
   "source": [
    "newTuple[3] # You can access the element using their index\n",
    "\n",
    "# newTuple[5] = 'f' You cannot assign any values to tuples and they are fixed"
   ]
  },
  {
   "cell_type": "code",
   "execution_count": 13,
   "id": "d8f1f5d5",
   "metadata": {},
   "outputs": [
    {
     "data": {
      "text/plain": [
       "('a', 'b', 'c')"
      ]
     },
     "execution_count": 13,
     "metadata": {},
     "output_type": "execute_result"
    }
   ],
   "source": [
    "newTuple[:3]"
   ]
  },
  {
   "cell_type": "code",
   "execution_count": 14,
   "id": "77ea22c1",
   "metadata": {},
   "outputs": [
    {
     "name": "stdout",
     "output_type": "stream",
     "text": [
      "a\n",
      "b\n",
      "c\n",
      "d\n",
      "e\n"
     ]
    }
   ],
   "source": [
    "# TRAVERSE A TUPLE\n",
    "\n",
    "for i in newTuple:\n",
    "    print(i)"
   ]
  },
  {
   "cell_type": "code",
   "execution_count": 15,
   "id": "bd7e3c1b",
   "metadata": {},
   "outputs": [
    {
     "name": "stdout",
     "output_type": "stream",
     "text": [
      "a\n",
      "b\n",
      "c\n",
      "d\n",
      "e\n"
     ]
    }
   ],
   "source": [
    "for i in range(len(newTuple)):\n",
    "    print(newTuple[i])"
   ]
  },
  {
   "cell_type": "code",
   "execution_count": 16,
   "id": "0d701a84",
   "metadata": {},
   "outputs": [
    {
     "data": {
      "text/plain": [
       "True"
      ]
     },
     "execution_count": 16,
     "metadata": {},
     "output_type": "execute_result"
    }
   ],
   "source": [
    "# SEARCH FOR A ELEMENT IN TUPLE\n",
    "\n",
    "'a' in newTuple"
   ]
  },
  {
   "cell_type": "code",
   "execution_count": 17,
   "id": "6cf9b4e1",
   "metadata": {},
   "outputs": [
    {
     "data": {
      "text/plain": [
       "2"
      ]
     },
     "execution_count": 17,
     "metadata": {},
     "output_type": "execute_result"
    }
   ],
   "source": [
    "# INDEX() USE TO FIND THE INDEX\n",
    "\n",
    "newTuple.index('c')"
   ]
  },
  {
   "cell_type": "code",
   "execution_count": 32,
   "id": "6ee6ac6d",
   "metadata": {},
   "outputs": [
    {
     "data": {
      "text/plain": [
       "3"
      ]
     },
     "execution_count": 32,
     "metadata": {},
     "output_type": "execute_result"
    }
   ],
   "source": [
    "# SEARCH FOR AN ELEMENT IN TUPLE\n",
    "\n",
    "def search(tuple1, element):\n",
    "    for i in tuple1:\n",
    "        if i == element:\n",
    "            return tuple1.index(element)\n",
    "    return -1\n",
    "\n",
    "search(newTuple, 'd')"
   ]
  },
  {
   "cell_type": "code",
   "execution_count": 33,
   "id": "bb0848f4",
   "metadata": {},
   "outputs": [
    {
     "data": {
      "text/plain": [
       "('a', 'b', 'c', 'd', 'e', 'f', 'g')"
      ]
     },
     "execution_count": 33,
     "metadata": {},
     "output_type": "execute_result"
    }
   ],
   "source": [
    "# Concatenate newTuple with another tuple\n",
    "another_tuple = ('f', 'g')\n",
    "concatenated_tuple = newTuple + another_tuple\n",
    "concatenated_tuple"
   ]
  },
  {
   "cell_type": "code",
   "execution_count": null,
   "id": "5651fd7d",
   "metadata": {},
   "outputs": [
    {
     "data": {
      "text/plain": [
       "('a', 'b', 'c', 'd', 'e', 'a', 'b', 'c', 'd', 'e', 'a', 'b', 'c', 'd', 'e')"
      ]
     },
     "execution_count": 34,
     "metadata": {},
     "output_type": "execute_result"
    }
   ],
   "source": [
    "# tuple multiplication\n",
    "repeated_tuple = newTuple * 3\n",
    "repeated_tuple"
   ]
  },
  {
   "cell_type": "code",
   "execution_count": null,
   "id": "ea067b37",
   "metadata": {},
   "outputs": [
    {
     "data": {
      "text/plain": [
       "3"
      ]
     },
     "execution_count": 35,
     "metadata": {},
     "output_type": "execute_result"
    }
   ],
   "source": [
    "# count method \n",
    "repeated_tuple.count('a')"
   ]
  },
  {
   "cell_type": "code",
   "execution_count": 37,
   "id": "e86571d7",
   "metadata": {},
   "outputs": [
    {
     "data": {
      "text/plain": [
       "'e'"
      ]
     },
     "execution_count": 37,
     "metadata": {},
     "output_type": "execute_result"
    }
   ],
   "source": [
    "# max method\n",
    "max(repeated_tuple)"
   ]
  },
  {
   "cell_type": "code",
   "execution_count": 38,
   "id": "2b6b32f9",
   "metadata": {},
   "outputs": [
    {
     "data": {
      "text/plain": [
       "'a'"
      ]
     },
     "execution_count": 38,
     "metadata": {},
     "output_type": "execute_result"
    }
   ],
   "source": [
    "# min method\n",
    "min(repeated_tuple)"
   ]
  },
  {
   "cell_type": "markdown",
   "id": "0b6c65fd",
   "metadata": {},
   "source": [
    "**Sum and Product**\n",
    "\n",
    "Write a function that calculates the sum and product of all elements in a tuple of numbers.\n",
    "\n",
    "Example\n",
    "\n",
    "input_tuple = (1, 2, 3, 4)\\\n",
    "sum_result, product_result = sum_product(input_tuple)\n",
    "\n",
    "print(sum_result, product_result)  # Expected output: 10, 24"
   ]
  },
  {
   "cell_type": "code",
   "execution_count": null,
   "id": "c36927f5",
   "metadata": {},
   "outputs": [
    {
     "data": {
      "text/plain": [
       "(10, 24)"
      ]
     },
     "execution_count": 43,
     "metadata": {},
     "output_type": "execute_result"
    }
   ],
   "source": [
    "# SUM AND PRODUCT\n",
    "\n",
    "def sum_product(input_tuple):\n",
    "    \n",
    "    def product(input_tuple):\n",
    "        prod = 1\n",
    "        for i in input_tuple:\n",
    "            prod = i * prod\n",
    "        return prod\n",
    "    return sum(input_tuple), product(input_tuple)\n",
    "\n",
    "tuple1= 1,2,3,4\n",
    "sum_product(tuple1)"
   ]
  },
  {
   "cell_type": "code",
   "execution_count": 46,
   "id": "0e01009a",
   "metadata": {},
   "outputs": [
    {
     "data": {
      "text/plain": [
       "(10, 24)"
      ]
     },
     "execution_count": 46,
     "metadata": {},
     "output_type": "execute_result"
    }
   ],
   "source": [
    "def sum_product(t):\n",
    "    sum_result = 0\n",
    "    product_result = 1\n",
    " \n",
    "    for num in t:\n",
    "        sum_result += num\n",
    "        product_result *= num\n",
    " \n",
    "    return sum_result, product_result\n",
    " \n",
    "input_tuple = (1, 2, 3, 4)\n",
    "sum_product(input_tuple)\n"
   ]
  },
  {
   "cell_type": "markdown",
   "id": "8e9079d7",
   "metadata": {},
   "source": [
    "**Elementwise Sum**\n",
    "\n",
    "Create a function that takes two tuples and returns a tuple containing the element-wise sum of the input tuples.\n",
    "\n",
    "Example\n",
    "\n",
    "tuple1 = (1, 2, 3)\\\n",
    "tuple2 = (4, 5, 6)\\\n",
    "output_tuple = tuple_elementwise_sum(tuple1, tuple2)\\\n",
    "print(output_tuple)  # Expected output: (5, 7, 9)"
   ]
  },
  {
   "cell_type": "code",
   "execution_count": 56,
   "id": "7db7a09f",
   "metadata": {},
   "outputs": [
    {
     "data": {
      "text/plain": [
       "(5, 7, 9)"
      ]
     },
     "execution_count": 56,
     "metadata": {},
     "output_type": "execute_result"
    }
   ],
   "source": [
    "def ElementWiseSum(tuple1, tuple2):\n",
    "    empty_list = []\n",
    "    for i in range(len(tuple1)):\n",
    "        for j in range(i,len(tuple2)):\n",
    "            empty_list.append(tuple1[i]+tuple2[j])\n",
    "            break\n",
    "    return tuple(empty_list)\n",
    "tuple1 = (1, 2, 3)\n",
    "tuple2 = (4, 5, 6)\n",
    "ElementWiseSum(tuple1, tuple2)\n"
   ]
  },
  {
   "cell_type": "code",
   "execution_count": null,
   "id": "a83442ae",
   "metadata": {},
   "outputs": [
    {
     "data": {
      "text/plain": [
       "(5, 7, 9)"
      ]
     },
     "execution_count": 58,
     "metadata": {},
     "output_type": "execute_result"
    }
   ],
   "source": [
    "\n",
    "def tuple_elementwise_sum(tuple1, tuple2):\n",
    "    \n",
    "    return tuple(map(sum, zip(tuple1, tuple2)))\n",
    "    # The zip function takes two or more iterables (like tuples or lists) and returns an iterator of tuples,\n",
    "    # where the i-th tuple contains the i-th element from each of the input iterables.\n",
    "    # For example, zip((1,2,3), (4,5,6)) produces (1,4), (2,5), (3,6).\n",
    "\n",
    "tuple1 = (1, 2, 3)\n",
    "tuple2 = (4, 5, 6)\n",
    "ElementWiseSum(tuple1, tuple2)"
   ]
  },
  {
   "cell_type": "code",
   "execution_count": 59,
   "id": "ea59021f",
   "metadata": {},
   "outputs": [
    {
     "data": {
      "text/plain": [
       "(5, 7, 9)"
      ]
     },
     "execution_count": 59,
     "metadata": {},
     "output_type": "execute_result"
    }
   ],
   "source": [
    "def tuple_elementwise_sum(tuple1, tuple2):\n",
    "    return tuple(x+y for x,y in zip(tuple1, tuple2))\n",
    "\n",
    "tuple1 = (1, 2, 3)\n",
    "tuple2 = (4, 5, 6)\n",
    "ElementWiseSum(tuple1, tuple2)"
   ]
  },
  {
   "cell_type": "markdown",
   "id": "baff1def",
   "metadata": {},
   "source": [
    "**Insert at the Beginning**\n",
    "\n",
    "Write a function that takes a tuple and a value, and returns a new tuple with the value inserted at the beginning of the original tuple.\n",
    "\n",
    "Example\n",
    "\n",
    "input_tuple = (2, 3, 4)\\\n",
    "value_to_insert = 1\\\n",
    "output_tuple = insert_value_front(input_tuple, value_to_insert)\\\n",
    "print(output_tuple)  \\\n",
    "\n",
    "Expected output: (1, 2, 3, 4)"
   ]
  },
  {
   "cell_type": "code",
   "execution_count": 70,
   "id": "808b3202",
   "metadata": {},
   "outputs": [
    {
     "data": {
      "text/plain": [
       "(1, 2, 3, 4)"
      ]
     },
     "execution_count": 70,
     "metadata": {},
     "output_type": "execute_result"
    }
   ],
   "source": [
    "def insert_value_front(input_tuple, value_to_insert):\n",
    "    temp_list = list(input_tuple)\n",
    "    temp_list.insert(0, value_to_insert)\n",
    "    return tuple(temp_list)\n",
    "\n",
    "input_tuple = (2, 3, 4)\n",
    "value_to_insert = 1\n",
    "insert_value_front(input_tuple, value_to_insert)\n"
   ]
  },
  {
   "cell_type": "code",
   "execution_count": null,
   "id": "968938e2",
   "metadata": {},
   "outputs": [
    {
     "data": {
      "text/plain": [
       "(1, 2, 3, 4)"
      ]
     },
     "execution_count": 72,
     "metadata": {},
     "output_type": "execute_result"
    }
   ],
   "source": [
    "def insert_value_front(input_tuple, value_to_insert):\n",
    "    return (value_to_insert,)+input_tuple\n",
    "\n",
    "input_tuple = (2, 3, 4)\n",
    "value_to_insert = 1\n",
    "insert_value_front(input_tuple, value_to_insert)"
   ]
  },
  {
   "cell_type": "markdown",
   "id": "5225cce0",
   "metadata": {},
   "source": [
    "**Concatenate**\n",
    "\n",
    "Write a function that takes a tuple of strings and concatenates them, separating each string with a space.\n",
    "\n",
    "Example\n",
    "\n",
    "input_tuple = ('Hello', 'World', 'from', 'Python')\\\n",
    "output_string = concatenate_strings(input_tuple)\\\n",
    "print(output_string)  \n",
    "\n",
    "Expected output: 'Hello World from Python'"
   ]
  },
  {
   "cell_type": "code",
   "execution_count": 86,
   "id": "324f4f1a",
   "metadata": {},
   "outputs": [
    {
     "data": {
      "text/plain": [
       "'Hello World from Python'"
      ]
     },
     "execution_count": 86,
     "metadata": {},
     "output_type": "execute_result"
    }
   ],
   "source": [
    "def concatenate_strings(input_tuple):\n",
    "    return ' '.join(input_tuple)\n",
    "\n",
    "input_tuple = ('Hello', 'World', 'from', 'Python')\n",
    "concatenate_strings(input_tuple)"
   ]
  },
  {
   "cell_type": "markdown",
   "id": "9f213f78",
   "metadata": {},
   "source": [
    "**Diagonal**\n",
    "\n",
    "Create a function that takes a tuple of tuples and returns a tuple containing the diagonal elements of the input.\n",
    "\n",
    "Example\n",
    "\n",
    "input_tuple = (\\\n",
    "    (1, 2, 3),\\\n",
    "    (4, 5, 6),\\\n",
    "    (7, 8, 9)\\\n",
    ")\\\n",
    "output_tuple = get_diagonal(input_tuple)\n",
    "print(output_tuple)   \n",
    "\n",
    "Expected output: (1, 5, 9)"
   ]
  },
  {
   "cell_type": "code",
   "execution_count": 93,
   "id": "572f75ab",
   "metadata": {},
   "outputs": [
    {
     "data": {
      "text/plain": [
       "(1, 5, 9)"
      ]
     },
     "execution_count": 93,
     "metadata": {},
     "output_type": "execute_result"
    }
   ],
   "source": [
    "def get_diagonal(tup):\n",
    "    diagonalElements = []\n",
    "    for i in range(len(tup)):\n",
    "        diagonalElements.append(tup[i][i])\n",
    "    return tuple(diagonalElements)\n",
    "    \n",
    "tup = ((1, 2, 3),(4, 5, 6),(7, 8, 9))\n",
    "get_diagonal(tup)\n"
   ]
  },
  {
   "cell_type": "code",
   "execution_count": 94,
   "id": "aaa66f94",
   "metadata": {},
   "outputs": [
    {
     "data": {
      "text/plain": [
       "(1, 5, 9)"
      ]
     },
     "execution_count": 94,
     "metadata": {},
     "output_type": "execute_result"
    }
   ],
   "source": [
    "def get_diagonal(tup):\n",
    "    return tuple(tup[i][i] for i in range(len(tup)))\n",
    "\n",
    "tup = ((1, 2, 3),(4, 5, 6),(7, 8, 9))\n",
    "get_diagonal(tup)"
   ]
  },
  {
   "cell_type": "markdown",
   "id": "7098366a",
   "metadata": {},
   "source": [
    "**Common Elements**\n",
    "\n",
    "Write a function that takes two tuples and returns a tuple containing the common elements of the input tuples.\n",
    "\n",
    "Example\n",
    "\n",
    "tuple1 = (1, 2, 3, 4, 5)\\\n",
    "tuple2 = (4, 5, 6, 7, 8)\\\n",
    "output_tuple = common_elements(tuple1, tuple2)\n",
    "\n",
    "print(output_tuple)\n",
    "\n",
    "Expected output: (4, 5)"
   ]
  },
  {
   "cell_type": "code",
   "execution_count": 95,
   "id": "82985696",
   "metadata": {},
   "outputs": [
    {
     "data": {
      "text/plain": [
       "(4, 5)"
      ]
     },
     "execution_count": 95,
     "metadata": {},
     "output_type": "execute_result"
    }
   ],
   "source": [
    "def common_elements(tuple1, tuple2):\n",
    "    common = []\n",
    "    for i in tuple1:\n",
    "        for j in tuple2:\n",
    "            if i == j:\n",
    "                common.append(i)\n",
    "    return tuple(common)\n",
    "\n",
    "tuple1 = (1, 2, 3, 4, 5)\n",
    "tuple2 = (4, 5, 6, 7, 8)\n",
    "common_elements(tuple1, tuple2)"
   ]
  },
  {
   "cell_type": "code",
   "execution_count": null,
   "id": "6a4ba095",
   "metadata": {},
   "outputs": [
    {
     "data": {
      "text/plain": [
       "(4, 5)"
      ]
     },
     "execution_count": 96,
     "metadata": {},
     "output_type": "execute_result"
    }
   ],
   "source": [
    "def common_elements(tuple1, tuple2):\n",
    "    common = []\n",
    "    for i in tuple1:\n",
    "        if i in tuple2:\n",
    "            common.append(i)\n",
    "    return tuple(common)\n",
    "\n",
    "tuple1 = (1, 2, 3, 4, 5)\n",
    "tuple2 = (4, 5, 6, 7, 8)\n",
    "common_elements(tuple1, tuple2)"
   ]
  },
  {
   "cell_type": "code",
   "execution_count": 97,
   "id": "7e89ff73",
   "metadata": {},
   "outputs": [
    {
     "data": {
      "text/plain": [
       "(4, 5)"
      ]
     },
     "execution_count": 97,
     "metadata": {},
     "output_type": "execute_result"
    }
   ],
   "source": [
    "def common_elements(tuple1,tuple2):\n",
    "    return tuple(i for i in tuple1 if i in tuple2)\n",
    "\n",
    "tuple1 = (1, 2, 3, 4, 5)\n",
    "tuple2 = (4, 5, 6, 7, 8)\n",
    "common_elements(tuple1, tuple2)"
   ]
  },
  {
   "cell_type": "code",
   "execution_count": 99,
   "id": "a7bfb977",
   "metadata": {},
   "outputs": [
    {
     "data": {
      "text/plain": [
       "(4, 5)"
      ]
     },
     "execution_count": 99,
     "metadata": {},
     "output_type": "execute_result"
    }
   ],
   "source": [
    "def common_elements(tuple1, tuple2):\n",
    "    return tuple(set(tuple1) & set(tuple2))\n",
    "\n",
    "tuple1 = (1, 2, 3, 4, 5)\n",
    "tuple2 = (4, 5, 6, 7, 8)\n",
    "common_elements(tuple1, tuple2)"
   ]
  },
  {
   "cell_type": "code",
   "execution_count": null,
   "id": "435414b5",
   "metadata": {},
   "outputs": [],
   "source": []
  }
 ],
 "metadata": {
  "kernelspec": {
   "display_name": "python_venv",
   "language": "python",
   "name": "python3"
  },
  "language_info": {
   "codemirror_mode": {
    "name": "ipython",
    "version": 3
   },
   "file_extension": ".py",
   "mimetype": "text/x-python",
   "name": "python",
   "nbconvert_exporter": "python",
   "pygments_lexer": "ipython3",
   "version": "3.12.4"
  }
 },
 "nbformat": 4,
 "nbformat_minor": 5
}
