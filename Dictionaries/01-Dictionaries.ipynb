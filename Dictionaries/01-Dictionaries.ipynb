{
 "cells": [
  {
   "cell_type": "markdown",
   "id": "41cfe826",
   "metadata": {},
   "source": [
    "# Dictionaries\n",
    "\n",
    "A **dictionary** in Python is a collection of key-value pairs. Each key is unique and is used to access its corresponding value. Dictionaries are mutable, allowing you to add, remove, or modify items.\n",
    "\n",
    "A dictionary in Python is a collection of key-value pairs. Each key is unique, and it maps to a value. You can think of it as a real-world dictionary where each word (key) maps to its definition (value).\n",
    "\n",
    "**Adding Key-Value Pairs**\n",
    "\n",
    "When you add a key-value pair to a dictionary, you specify the key and the value. If the key already exists, the value is updated; if the key doesn't exist, a new key-value pair is created.\n",
    "\n",
    "`EXAMPLE:`\n",
    "\n",
    "word_count = {}\\\n",
    "word_count['apple'] = 1  # Adds 'apple' as a key with value 1\\\n",
    "word_count['orange'] = 2  # Adds 'orange' as a key with value 2\\\n",
    "word_count['apple'] = 3  # Updates the value of 'apple' to 3\n",
    "\n",
    "print(word_count)  \n",
    "\n",
    "**Output: {'apple': 3, 'orange': 2}**\n"
   ]
  },
  {
   "cell_type": "code",
   "execution_count": 32,
   "id": "77dfc30a",
   "metadata": {},
   "outputs": [
    {
     "data": {
      "text/plain": [
       "{'one': 'uno', 'two': 'dos', 'three': 'tres'}"
      ]
     },
     "execution_count": 32,
     "metadata": {},
     "output_type": "execute_result"
    }
   ],
   "source": [
    "# DECLARING USING DICT KEYWORD\n",
    "my_dict = dict(one ='uno',two= 'dos', three= 'tres')\n",
    "my_dict"
   ]
  },
  {
   "cell_type": "code",
   "execution_count": 33,
   "id": "9eacd5cb",
   "metadata": {},
   "outputs": [
    {
     "data": {
      "text/plain": [
       "{'one': 'uno', 'two': 'dos', 'three': 'tres'}"
      ]
     },
     "execution_count": 33,
     "metadata": {},
     "output_type": "execute_result"
    }
   ],
   "source": [
    "# DECLARING USING { } \n",
    "\n",
    "my_dict = {'one':'uno','two':'dos','three':'tres'}\n",
    "my_dict"
   ]
  },
  {
   "cell_type": "code",
   "execution_count": 34,
   "id": "cbff02c4",
   "metadata": {},
   "outputs": [
    {
     "data": {
      "text/plain": [
       "{('one', 'uno'), ('three', 'tres'), ('two', 'dos')}"
      ]
     },
     "execution_count": 34,
     "metadata": {},
     "output_type": "execute_result"
    }
   ],
   "source": [
    "# DECLARING USING TUPLES\n",
    "\n",
    "my_dict = {('one','uno'),('two','dos'),('three','tres')}\n",
    "my_dict"
   ]
  },
  {
   "cell_type": "code",
   "execution_count": 35,
   "id": "89a635e6",
   "metadata": {},
   "outputs": [
    {
     "data": {
      "text/plain": [
       "{'name': 'adam', 'age': 24}"
      ]
     },
     "execution_count": 35,
     "metadata": {},
     "output_type": "execute_result"
    }
   ],
   "source": [
    "my_dict = {'name':'adam','age': 24}\n",
    "my_dict"
   ]
  },
  {
   "cell_type": "code",
   "execution_count": 36,
   "id": "d2315b47",
   "metadata": {},
   "outputs": [
    {
     "data": {
      "text/plain": [
       "{'name': 'adam', 'age': 42}"
      ]
     },
     "execution_count": 36,
     "metadata": {},
     "output_type": "execute_result"
    }
   ],
   "source": [
    "my_dict['age'] = 42\n",
    "my_dict"
   ]
  },
  {
   "cell_type": "code",
   "execution_count": 37,
   "id": "02bc7568",
   "metadata": {},
   "outputs": [
    {
     "data": {
      "text/plain": [
       "{'name': 'adam', 'age': 42, 'address': 'India'}"
      ]
     },
     "execution_count": 37,
     "metadata": {},
     "output_type": "execute_result"
    }
   ],
   "source": [
    "my_dict['address'] = 'India'\n",
    "my_dict"
   ]
  },
  {
   "cell_type": "code",
   "execution_count": 38,
   "id": "99da4534",
   "metadata": {},
   "outputs": [
    {
     "name": "stdout",
     "output_type": "stream",
     "text": [
      "name adam\n",
      "age 42\n",
      "address India\n"
     ]
    }
   ],
   "source": [
    "# TRAVERSE A DICTINARY\n",
    "\n",
    "def traverse(dict):\n",
    "    for i in dict:\n",
    "        \n",
    "        print(i, dict[i])\n",
    "    \n",
    "my_dict = {'name': 'adam', 'age': 42, 'address': 'India'}\n",
    "traverse(my_dict)"
   ]
  },
  {
   "cell_type": "code",
   "execution_count": 39,
   "id": "3a506d9f",
   "metadata": {},
   "outputs": [
    {
     "data": {
      "text/plain": [
       "('address', 'India')"
      ]
     },
     "execution_count": 39,
     "metadata": {},
     "output_type": "execute_result"
    }
   ],
   "source": [
    "# SEARCH FOR AN ELEMENT DICTIONARY\n",
    "\n",
    "def search(dict, element):\n",
    "    for i in dict:\n",
    "        if dict[i] == element:\n",
    "            return i, dict[i]\n",
    "    return -1\n",
    "search({'name': 'adam', 'age': 42, 'address': 'India'},'India')"
   ]
  },
  {
   "cell_type": "code",
   "execution_count": 40,
   "id": "c434be36",
   "metadata": {},
   "outputs": [
    {
     "data": {
      "text/plain": [
       "42"
      ]
     },
     "execution_count": 40,
     "metadata": {},
     "output_type": "execute_result"
    }
   ],
   "source": [
    "# POP\n",
    "\n",
    "item = my_dict.pop('age')\n",
    "# The variable 'item' now holds the value that was removed from the dictionary, which is 42.\n",
    "# The dictionary 'my_dict' no longer contains the 'age' key.\n",
    "item"
   ]
  },
  {
   "cell_type": "code",
   "execution_count": 41,
   "id": "51354c0d",
   "metadata": {},
   "outputs": [
    {
     "data": {
      "text/plain": [
       "('address', 'India')"
      ]
     },
     "execution_count": 41,
     "metadata": {},
     "output_type": "execute_result"
    }
   ],
   "source": [
    "# POPITEM()\n",
    "# The popitem() method removes and returns the last inserted key-value pair as a tuple.\n",
    "# It is useful when you want to remove items in LIFO (Last In, First Out) order.\n",
    "\n",
    "item = my_dict.popitem()\n",
    "item"
   ]
  },
  {
   "cell_type": "code",
   "execution_count": 42,
   "id": "5193a26c",
   "metadata": {},
   "outputs": [
    {
     "data": {
      "text/plain": [
       "{'name': 'adam', 'address': 'India'}"
      ]
     },
     "execution_count": 42,
     "metadata": {},
     "output_type": "execute_result"
    }
   ],
   "source": [
    "# DELETE AN ELEMENT IN DICTIONARY\n",
    "\n",
    "def remove(dict,element):\n",
    "    for i in dict:\n",
    "        if dict[i] == element:\n",
    "            del dict[i] # you can also use `dict.pop(i)`\n",
    "            \n",
    "            break\n",
    "    return dict\n",
    "remove({'name': 'adam', 'age': 42, 'address': 'India'},42)"
   ]
  },
  {
   "cell_type": "code",
   "execution_count": 43,
   "id": "2fa209e3",
   "metadata": {},
   "outputs": [
    {
     "data": {
      "text/plain": [
       "{}"
      ]
     },
     "execution_count": 43,
     "metadata": {},
     "output_type": "execute_result"
    }
   ],
   "source": [
    "# CLEAR\n",
    "# Clear command will delete all the elements in the dictionary\n",
    "\n",
    "my_dict.clear() \n",
    "my_dict"
   ]
  },
  {
   "cell_type": "code",
   "execution_count": 44,
   "id": "08ad4179",
   "metadata": {},
   "outputs": [
    {
     "data": {
      "text/plain": [
       "{'name': 'adam', 'age': 42, 'address': 'India'}"
      ]
     },
     "execution_count": 44,
     "metadata": {},
     "output_type": "execute_result"
    }
   ],
   "source": [
    "# COPY\n",
    "\n",
    "my_dict = {'name': 'adam', 'age': 42, 'address': 'India'}\n",
    "copy_dict = my_dict.copy()\n",
    "copy_dict"
   ]
  },
  {
   "cell_type": "code",
   "execution_count": 45,
   "id": "142fa32b",
   "metadata": {},
   "outputs": [
    {
     "data": {
      "text/plain": [
       "{0: 'car', 1: 'car', 2: 'car'}"
      ]
     },
     "execution_count": 45,
     "metadata": {},
     "output_type": "execute_result"
    }
   ],
   "source": [
    "# FROMKEYS\n",
    "# The fromkeys() method creates a new dictionary with the specified keys and a common value.\n",
    "\n",
    "new_dict = {}.fromkeys([0,1,2],'car')\n",
    "new_dict"
   ]
  },
  {
   "cell_type": "code",
   "execution_count": 46,
   "id": "ff3e20aa",
   "metadata": {},
   "outputs": [
    {
     "data": {
      "text/plain": [
       "'adam'"
      ]
     },
     "execution_count": 46,
     "metadata": {},
     "output_type": "execute_result"
    }
   ],
   "source": [
    "# GET\n",
    "# The get() method returns the value for the specified key if the key is in the dictionary.\n",
    "# If not, it returns the default value provided (in this case, 'none').\n",
    "\n",
    "my_dict.get('name','none')\n"
   ]
  },
  {
   "cell_type": "code",
   "execution_count": 47,
   "id": "a228c076",
   "metadata": {},
   "outputs": [
    {
     "data": {
      "text/plain": [
       "dict_items([('name', 'adam'), ('age', 42), ('address', 'India')])"
      ]
     },
     "execution_count": 47,
     "metadata": {},
     "output_type": "execute_result"
    }
   ],
   "source": [
    "# ITEMS\n",
    "# The items() method returns a view object that displays a list of a dictionary's key-value tuple pairs.\n",
    "\n",
    "my_dict.items()"
   ]
  },
  {
   "cell_type": "code",
   "execution_count": 48,
   "id": "52b97e3e",
   "metadata": {},
   "outputs": [
    {
     "data": {
      "text/plain": [
       "dict_keys(['name', 'age', 'address'])"
      ]
     },
     "execution_count": 48,
     "metadata": {},
     "output_type": "execute_result"
    }
   ],
   "source": [
    "# KEYS\n",
    "# The keys() method returns a view object that displays a list of all the keys in the dictionary.\n",
    "\n",
    "my_dict.keys()"
   ]
  },
  {
   "cell_type": "code",
   "execution_count": 49,
   "id": "5f1fa651",
   "metadata": {},
   "outputs": [
    {
     "data": {
      "text/plain": [
       "{'name': 'adam', 'age': 42, 'address': 'India', 'name1': 'added'}"
      ]
     },
     "execution_count": 49,
     "metadata": {},
     "output_type": "execute_result"
    }
   ],
   "source": [
    "# SET DEFAULT\n",
    "# The setdefault() method returns the value of a key if it is in the dictionary.\n",
    "# If not, it inserts the key with the specified default value.\n",
    "\n",
    "my_dict.setdefault('name1','added')\n",
    "my_dict"
   ]
  },
  {
   "cell_type": "code",
   "execution_count": 50,
   "id": "1c2fad04",
   "metadata": {},
   "outputs": [
    {
     "data": {
      "text/plain": [
       "dict_values(['adam', 42, 'India', 'added'])"
      ]
     },
     "execution_count": 50,
     "metadata": {},
     "output_type": "execute_result"
    }
   ],
   "source": [
    "# VALUES\n",
    "# The values() method returns a view object that displays a list of all the values in the dictionary.\n",
    "\n",
    "my_dict.values()"
   ]
  },
  {
   "cell_type": "code",
   "execution_count": 51,
   "id": "9f7f15df",
   "metadata": {},
   "outputs": [
    {
     "data": {
      "text/plain": [
       "{'name': 'adam',\n",
       " 'age': 42,\n",
       " 'address': 'India',\n",
       " 'country': 'USA',\n",
       " 'pincode': 308292,\n",
       " 'surname': 'gill'}"
      ]
     },
     "execution_count": 51,
     "metadata": {},
     "output_type": "execute_result"
    }
   ],
   "source": [
    "# UPDATE\n",
    "# The update() method updates the dictionary with the elements from another dictionary or from an iterable of key-value pairs.\n",
    "# It overwrites existing keys and adds new ones.\n",
    "\n",
    "my_dict.update({'name1': 'gill','country':'USA' ,'pincode': 308292})\n",
    "\n",
    "# To update the key 'name1' to 'surname', you need to remove 'name1' and add 'surname' with the same value.\n",
    "if 'name1' in my_dict:\n",
    "    my_dict['surname'] = my_dict.pop('name1')\n",
    "    \n",
    "my_dict"
   ]
  },
  {
   "cell_type": "code",
   "execution_count": 52,
   "id": "f06be763",
   "metadata": {},
   "outputs": [
    {
     "data": {
      "text/plain": [
       "True"
      ]
     },
     "execution_count": 52,
     "metadata": {},
     "output_type": "execute_result"
    }
   ],
   "source": [
    "# DICTIONARY OPERATORS\n",
    "\n",
    "'India' in my_dict.values()"
   ]
  },
  {
   "cell_type": "code",
   "execution_count": 53,
   "id": "2fbc0cca",
   "metadata": {},
   "outputs": [
    {
     "data": {
      "text/plain": [
       "True"
      ]
     },
     "execution_count": 53,
     "metadata": {},
     "output_type": "execute_result"
    }
   ],
   "source": [
    "'germany' not in my_dict.values()"
   ]
  },
  {
   "cell_type": "code",
   "execution_count": 54,
   "id": "4b61c663",
   "metadata": {},
   "outputs": [
    {
     "name": "stdout",
     "output_type": "stream",
     "text": [
      "True\n",
      "False\n",
      "True\n",
      "False\n",
      "True\n"
     ]
    }
   ],
   "source": [
    "# The all() function in Python returns True if all elements in an iterable are true (or if the iterable is empty).\n",
    "# For dictionaries, all() checks the truthiness of the keys (not the values).\n",
    "\n",
    "# Example with a list:\n",
    "print(all([True, True, True]))  # Output: True\n",
    "print(all([True, False, True])) # Output: False\n",
    "\n",
    "# Example with a dictionary:\n",
    "d = {'a': 1, 'b': 2}\n",
    "print(all(d))  # Output: True (since all keys are non-empty strings, which are truthy)\n",
    "\n",
    "d = {'': 1, 'b': 2}\n",
    "print(all(d))  # Output: False ('' is falsy)\n",
    "\n",
    "# If you want to check if all values in a dictionary are true:\n",
    "print(all(d.values()))"
   ]
  },
  {
   "cell_type": "code",
   "execution_count": 55,
   "id": "d141704e",
   "metadata": {},
   "outputs": [
    {
     "data": {
      "text/plain": [
       "{'paris': 21, 'london': 23, 'berlin': 28, 'tokyo': 25, 'sweden': 27}"
      ]
     },
     "execution_count": 55,
     "metadata": {},
     "output_type": "execute_result"
    }
   ],
   "source": [
    "# DICTIONARY COMPREHENSION\n",
    "\n",
    "import random\n",
    "\n",
    "city_names = ['paris','london','berlin','tokyo','sweden']\n",
    "new_dict = {i : random.randint(20,30) for i in city_names}\n",
    "new_dict"
   ]
  },
  {
   "cell_type": "code",
   "execution_count": 56,
   "id": "db779238",
   "metadata": {},
   "outputs": [
    {
     "data": {
      "text/plain": [
       "{'berlin': 28, 'sweden': 27}"
      ]
     },
     "execution_count": 56,
     "metadata": {},
     "output_type": "execute_result"
    }
   ],
   "source": [
    "new_dict = {i: temp for (i, temp) in new_dict.items() if temp > 25}\n",
    "new_dict\n"
   ]
  },
  {
   "cell_type": "markdown",
   "id": "6427d637",
   "metadata": {},
   "source": [
    "**Count Word Frequency**\n",
    "\n",
    "Define a function to count the frequency of words in a given list of words.\n",
    "\n",
    "Example:\n",
    "\n",
    "words = ['apple', 'orange', 'banana', 'apple', 'orange', 'apple'] \n",
    "\n",
    "count_word_frequency(words) \n",
    "\n",
    "Output:\n",
    "\n",
    " {'apple': 3, 'orange': 2, 'banana': 1}"
   ]
  },
  {
   "cell_type": "code",
   "execution_count": 57,
   "id": "04379514",
   "metadata": {},
   "outputs": [
    {
     "data": {
      "text/plain": [
       "{'apple': 3, 'orange': 2, 'banana': 1}"
      ]
     },
     "execution_count": 57,
     "metadata": {},
     "output_type": "execute_result"
    }
   ],
   "source": [
    "# NUMBER OF FREQUENCY OF WORDS:\n",
    "\n",
    "def count_word_frequency(words):\n",
    "    seen = {}\n",
    "    for i in words:\n",
    "        if i in seen:\n",
    "            seen[i] += 1\n",
    "        if i not in seen:\n",
    "            seen[i] = 1\n",
    "    return seen\n",
    "\n",
    "count_word_frequency(['apple','orange','banana','apple','orange','apple'])\n"
   ]
  },
  {
   "cell_type": "code",
   "execution_count": 58,
   "id": "539ce003",
   "metadata": {},
   "outputs": [
    {
     "data": {
      "text/plain": [
       "{'apple': 3, 'orange': 2, 'banana': 1}"
      ]
     },
     "execution_count": 58,
     "metadata": {},
     "output_type": "execute_result"
    }
   ],
   "source": [
    "\n",
    "def count_word_frequency(words):\n",
    "    word_count = {}\n",
    "    for word in words:\n",
    "        word_count[word] = word_count.get(word, 0) + 1\n",
    "    return word_count\n",
    "\n",
    "count_word_frequency(['apple','orange','banana','apple','orange','apple'])"
   ]
  },
  {
   "cell_type": "code",
   "execution_count": 59,
   "id": "b41c1e2c",
   "metadata": {},
   "outputs": [],
   "source": [
    "# TO READ NUMBER OF WORDS IN A FILE:\n",
    "\n",
    "def count_word_frequency(words):\n",
    "    word_count = {}\n",
    "    for word in words:\n",
    "        word_count[word] = word_count.get(word, 0) + 1\n",
    "    return word_count\n",
    "\n",
    "def count_words_from_file(file_path):\n",
    "    with open(file_path, 'r') as file:\n",
    "        text = file.read()\n",
    "    words = text.split()\n",
    "    return count_word_frequency(words)\n",
    "\n",
    "# Example usage\n",
    "# file_path = 'example.txt'\n",
    "# print(count_words_from_file(file_path))\n"
   ]
  },
  {
   "cell_type": "markdown",
   "id": "e5106947",
   "metadata": {},
   "source": [
    "**Common Keys**\n",
    "\n",
    "Define a function with takes two dictionaries as parameters and merge them and sum the values of common keys.\n",
    "\n",
    "Example:\n",
    "\n",
    "dict1 = {'a': 1, 'b': 2, 'c': 3}\\\n",
    "dict2 = {'b': 3, 'c': 4, 'd': 5}\\\n",
    "merge_dicts(dict1, dict2)\n",
    "\n",
    "Output:\n",
    "\n",
    "{'a': 1, 'b': 5, 'c': 7, 'd': 5}"
   ]
  },
  {
   "cell_type": "code",
   "execution_count": null,
   "id": "c5697cc4",
   "metadata": {},
   "outputs": [
    {
     "data": {
      "text/plain": [
       "{'a': 1, 'b': 3, 'c': 4, 'd': 5}"
      ]
     },
     "execution_count": 70,
     "metadata": {},
     "output_type": "execute_result"
    }
   ],
   "source": [
    "# UPDATE FUNCTION\n",
    "\n",
    "def update_dicts(dict1, dict2):\n",
    "    dict1.update(dict2)\n",
    "    return dict1\n",
    "\n",
    "d1 = {'a': 1, 'b': 2, 'c': 3}\n",
    "d2 = {'b': 3, 'c': 4, 'd': 5} # It will update the value b with 3 it wont sum it up.\n",
    "\n",
    "update_dicts(d1, d2)"
   ]
  },
  {
   "cell_type": "code",
   "execution_count": 76,
   "id": "4123b26d",
   "metadata": {},
   "outputs": [
    {
     "data": {
      "text/plain": [
       "{'a': 1, 'b': 5, 'c': 7, 'd': 5}"
      ]
     },
     "execution_count": 76,
     "metadata": {},
     "output_type": "execute_result"
    }
   ],
   "source": [
    "# USING IF ELSE\n",
    "\n",
    "def merge_dicts(dict1,dict2):\n",
    "    \n",
    "    for i in dict2:\n",
    "        if i in dict1:\n",
    "            dict1[i]+= dict2[i]\n",
    "        else:\n",
    "            dict1[i] = dict2[i]\n",
    "\n",
    "    return dict1\n",
    "\n",
    "d1 = {'a': 1, 'b': 2, 'c': 3}\n",
    "d2 = {'b': 3, 'c': 4, 'd': 5}\n",
    "\n",
    "merge_dicts(d1,d2)"
   ]
  },
  {
   "cell_type": "code",
   "execution_count": 81,
   "id": "425e6d7e",
   "metadata": {},
   "outputs": [
    {
     "data": {
      "text/plain": [
       "{'a': 1, 'b': 5, 'c': 7, 'd': 5}"
      ]
     },
     "execution_count": 81,
     "metadata": {},
     "output_type": "execute_result"
    }
   ],
   "source": [
    "# USING GET METHOD\n",
    "\n",
    "def merge_dicts(dict1, dict2):\n",
    "    \n",
    "    for key, value in dict2.items():\n",
    "        dict1[key] = dict1.get(key, 0) + value\n",
    "    return dict1\n",
    "\n",
    "d1 = {'a': 1, 'b': 2, 'c': 3}\n",
    "d2 = {'b': 3, 'c': 4, 'd': 5}\n",
    "merge_dicts(d1, d2)"
   ]
  },
  {
   "cell_type": "code",
   "execution_count": null,
   "id": "40692cd4",
   "metadata": {},
   "outputs": [],
   "source": [
    "# If we dont want to affect an existing dictionary we need to use a variable\n",
    "\n",
    "def merge_dicts(dict1, dict2):\n",
    "    result = dict1.copy()\n",
    "    for key, value in dict2.items():\n",
    "        result[key] = result.get(key, 0) + value\n",
    "\n",
    "    return result\n",
    "\n",
    "d1 = {'a': 1, 'b': 2, 'c': 3}\n",
    "d2 = {'b': 3, 'c': 4, 'd': 5}\n",
    "\n",
    "merge_dicts(d1,d2)"
   ]
  },
  {
   "cell_type": "markdown",
   "id": "c43d9f62",
   "metadata": {},
   "source": [
    "**Key with the Highest Value**\n",
    "\n",
    "Define a function which takes a dictionary as a parameter and returns the key with the highest value in a dictionary.\n",
    "\n",
    "Example:\n",
    "\n",
    "my_dict = {'a': 5, 'b': 9, 'c': 2}\n",
    "\n",
    "max_value_key(my_dict)\n",
    "\n",
    "Output:\n",
    "\n",
    "b"
   ]
  },
  {
   "cell_type": "code",
   "execution_count": null,
   "id": "273d8594",
   "metadata": {},
   "outputs": [
    {
     "data": {
      "text/plain": [
       "'b'"
      ]
     },
     "execution_count": 164,
     "metadata": {},
     "output_type": "execute_result"
    }
   ],
   "source": [
    "def max_value_key(dict1):\n",
    "    for key in dict1.keys():\n",
    "        if dict1[key] == max(dict1.values()):\n",
    "            return key\n",
    "        \n",
    "my_dict = {'a': 5, 'b': 9, 'c': 2}\n",
    "\n",
    "max_value_key(my_dict)"
   ]
  },
  {
   "cell_type": "code",
   "execution_count": 165,
   "id": "be2294d0",
   "metadata": {},
   "outputs": [
    {
     "data": {
      "text/plain": [
       "'b'"
      ]
     },
     "execution_count": 165,
     "metadata": {},
     "output_type": "execute_result"
    }
   ],
   "source": [
    "import numpy as np\n",
    "\n",
    "def max_value_key(my_dict):\n",
    "    max_value = -np.inf\n",
    "    key = None\n",
    "    for i,value in my_dict.items():\n",
    "        if value > max_value:\n",
    "            max_value = value\n",
    "            key = i\n",
    "    return key\n",
    "\n",
    "my_dict = {'a': 5, 'b': 9, 'c': 2}\n",
    "\n",
    "max_value_key(my_dict)"
   ]
  },
  {
   "cell_type": "code",
   "execution_count": null,
   "id": "b68211a9",
   "metadata": {},
   "outputs": [
    {
     "data": {
      "text/plain": [
       "'c'"
      ]
     },
     "execution_count": 113,
     "metadata": {},
     "output_type": "execute_result"
    }
   ],
   "source": [
    "def max_value_key(my_dict):\n",
    "    return max(my_dict, key=my_dict.get)\n",
    "\n",
    "my_dict = {'a': 5, 'b': 9, 'c': 2}\n",
    "\n",
    "max_value_key(my_dict)"
   ]
  },
  {
   "cell_type": "code",
   "execution_count": 109,
   "id": "9c068ab4",
   "metadata": {},
   "outputs": [
    {
     "data": {
      "text/plain": [
       "9"
      ]
     },
     "execution_count": 109,
     "metadata": {},
     "output_type": "execute_result"
    }
   ],
   "source": [
    "max(my_dict.values())\n"
   ]
  },
  {
   "cell_type": "code",
   "execution_count": 99,
   "id": "8cbd4485",
   "metadata": {},
   "outputs": [
    {
     "data": {
      "text/plain": [
       "{'c': 2, 'a': 5, 'b': 9}"
      ]
     },
     "execution_count": 99,
     "metadata": {},
     "output_type": "execute_result"
    }
   ],
   "source": [
    "# SORTING A DICTIONARY\n",
    "\n",
    "dict(sorted(my_dict.items(), key= lambda items:items[1]))"
   ]
  },
  {
   "cell_type": "markdown",
   "id": "73c43e07",
   "metadata": {},
   "source": [
    "**Reverse Key-Value Pairs**\n",
    "\n",
    "Define a function which takes as a parameter dictionary and returns a dictionary in which everse the key-value pairs are reversed.\n",
    "\n",
    "Example:\n",
    "\n",
    "my_dict = {'a': 1, 'b': 2, 'c': 3}\\\n",
    "reverse_dict(my_dict)\n",
    "\n",
    "Output:\n",
    "\n",
    "{1: 'a', 2: 'b', 3: 'c'}"
   ]
  },
  {
   "cell_type": "code",
   "execution_count": null,
   "id": "21b39869",
   "metadata": {},
   "outputs": [
    {
     "data": {
      "text/plain": [
       "{1: 'a', 2: 'b', 3: 'c'}"
      ]
     },
     "execution_count": 134,
     "metadata": {},
     "output_type": "execute_result"
    }
   ],
   "source": [
    "# REVERSING A DICTIONARY ITEMS\n",
    "\n",
    "def reverse_dict(my_dict):\n",
    "    dict3 = {}\n",
    "    for i, value in my_dict.items():\n",
    "        dict3[value] = i\n",
    "    return dict3\n",
    "\n",
    "\n",
    "my_dict = {'a': 1, 'b': 2, 'c': 3}\n",
    "reverse_dict(my_dict)"
   ]
  },
  {
   "cell_type": "code",
   "execution_count": 136,
   "id": "27d4701a",
   "metadata": {},
   "outputs": [
    {
     "data": {
      "text/plain": [
       "{1: 'a', 2: 'b', 3: 'c'}"
      ]
     },
     "execution_count": 136,
     "metadata": {},
     "output_type": "execute_result"
    }
   ],
   "source": [
    "# REVERSING USING DICTIONARY COMPREHENSION\n",
    "\n",
    "def reverse_dict(my_dict):\n",
    "    return {value: i for i, value in my_dict.items() }\n",
    "\n",
    "my_dict = {'a': 1, 'b': 2, 'c': 3}\n",
    "reverse_dict(my_dict)"
   ]
  },
  {
   "cell_type": "markdown",
   "id": "b3676dab",
   "metadata": {},
   "source": [
    "**Conditional Filter**\n",
    "\n",
    "Define a function that takes a dictionary as a parameter and returns a dictionary with elements based on a condition.\n",
    "\n",
    "Example:\n",
    "\n",
    "my_dict = {'a': 1, 'b': 2, 'c': 3, 'd': 4} \n",
    "\n",
    "filtered_dict = filter_dict(my_dict, lambda k, v: v % 2 == 0) \n",
    "\n",
    "Output:\n",
    "\n",
    "{'b': 2, 'd': 4}"
   ]
  },
  {
   "cell_type": "code",
   "execution_count": 152,
   "id": "17af5c12",
   "metadata": {},
   "outputs": [
    {
     "data": {
      "text/plain": [
       "{'b': 2, 'd': 4}"
      ]
     },
     "execution_count": 152,
     "metadata": {},
     "output_type": "execute_result"
    }
   ],
   "source": [
    "def filter_dict(my_dict):\n",
    "    even_dict = {}\n",
    "    for i in my_dict:\n",
    "        if my_dict[i] % 2 == 0:\n",
    "            even_dict[i] = my_dict[i]\n",
    "    return even_dict\n",
    "\n",
    "\n",
    "my_dict = {'a': 1, 'b': 2, 'c': 3, 'd': 4} \n",
    "filter_dict(my_dict)"
   ]
  },
  {
   "cell_type": "code",
   "execution_count": 155,
   "id": "acd1ab41",
   "metadata": {},
   "outputs": [],
   "source": [
    "def filter_dict(my_dict, condition):\n",
    "    return {k: v for k, v in my_dict.items() if condition(k, v)}\n",
    "\n",
    "my_dict = {'a': 1, 'b': 2, 'c': 3, 'd': 4} \n",
    "filtered_dict = filter_dict(my_dict, lambda k, v: v % 2 == 0)\n"
   ]
  },
  {
   "cell_type": "markdown",
   "id": "5411a3bd",
   "metadata": {},
   "source": [
    "**Same Frequency**\n",
    "\n",
    "Define a function which takes two lists as parameters and check if two given lists have the same frequency of elements.\n",
    "\n",
    "Example:\n",
    "\n",
    "list1 = [1, 2, 3, 2, 1]\\\n",
    "list2 = [3, 1, 2, 1, 3]\\\n",
    "check_same_frequency(list1, list2)\n",
    "\n",
    "Output:\n",
    "\n",
    "False"
   ]
  },
  {
   "cell_type": "code",
   "execution_count": 158,
   "id": "e07c863e",
   "metadata": {},
   "outputs": [
    {
     "data": {
      "text/plain": [
       "False"
      ]
     },
     "execution_count": 158,
     "metadata": {},
     "output_type": "execute_result"
    }
   ],
   "source": [
    "def check_same_frequency(list1, list2):\n",
    "    count = 0\n",
    "    list1 = sorted(list1)\n",
    "    list2 = sorted(list2)\n",
    "    if len(list1) == len(list2):\n",
    "        for i in range(len(list1)):\n",
    "            for j in range(i,len(list2)):\n",
    "                if list1[i] == list2[i]:\n",
    "                    count+=1\n",
    "                    continue\n",
    "        if count == len(list1):\n",
    "            return True\n",
    "        else:\n",
    "            return False\n",
    "    else:\n",
    "        return False\n",
    "\n",
    "list1 = [1, 2, 3, 2, 1]\n",
    "list2 = [3, 1, 2, 1, 3]\n",
    "check_same_frequency(list1, list2)\n",
    "            \n",
    "                    "
   ]
  },
  {
   "cell_type": "code",
   "execution_count": null,
   "id": "aac001c8",
   "metadata": {},
   "outputs": [
    {
     "data": {
      "text/plain": [
       "True"
      ]
     },
     "execution_count": 163,
     "metadata": {},
     "output_type": "execute_result"
    }
   ],
   "source": [
    "def check_same_frequency(list1, list2):\n",
    "    dict1 = {}\n",
    "    dict2 = {}\n",
    "    for i in list1:\n",
    "        dict1[i] = dict1.get(i,0) + 1\n",
    "    for i in list2:\n",
    "        dict2[i] = dict2.get(i,0) + 1\n",
    "    return dict1 == dict2\n",
    "\n",
    "list1 = [1, 2, 3, 2, 1]\n",
    "list2 = [3, 1, 2, 1, 2]\n",
    "check_same_frequency(list1, list2)\n",
    "\n",
    "\n",
    "# def count_word_frequency(words):\n",
    "#     word_count = {}\n",
    "#     for word in words:\n",
    "#         word_count[word] = word_count.get(word, 0) + 1\n",
    "#     return word_count\n",
    "\n",
    "# count_word_frequency(['apple','orange','banana','apple','orange','apple'])\n"
   ]
  },
  {
   "cell_type": "code",
   "execution_count": null,
   "id": "d1e50844",
   "metadata": {},
   "outputs": [
    {
     "data": {
      "text/plain": [
       "False"
      ]
     },
     "execution_count": 160,
     "metadata": {},
     "output_type": "execute_result"
    }
   ],
   "source": [
    "\n",
    "def check_same_frequency(list1, list2):\n",
    "    def count_frequency(lst):\n",
    "        freq = {}\n",
    "        for item in lst:\n",
    "            freq[item] = freq.get(item, 0) + 1\n",
    "        return freq\n",
    "    return count_frequency(list1) == count_frequency(list2)\n",
    "\n",
    "list1 = [1, 2, 3, 2, 1]\n",
    "list2 = [3, 1, 2, 1, 3]\n",
    "check_same_frequency(list1, list2)"
   ]
  },
  {
   "cell_type": "code",
   "execution_count": null,
   "id": "60cb919b",
   "metadata": {},
   "outputs": [],
   "source": []
  }
 ],
 "metadata": {
  "kernelspec": {
   "display_name": "python_venv",
   "language": "python",
   "name": "python3"
  },
  "language_info": {
   "codemirror_mode": {
    "name": "ipython",
    "version": 3
   },
   "file_extension": ".py",
   "mimetype": "text/x-python",
   "name": "python",
   "nbconvert_exporter": "python",
   "pygments_lexer": "ipython3",
   "version": "3.12.4"
  }
 },
 "nbformat": 4,
 "nbformat_minor": 5
}
